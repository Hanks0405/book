{
 "cells": [
  {
   "cell_type": "markdown",
   "metadata": {
    "school_cell_uuid": "4b762e052c9e446ea7b9d4ad3f0d9db8"
   },
   "source": [
    "# 김도형의 데이터 사이언스 스쿨 - 수학 편"
   ]
  },
  {
   "cell_type": "markdown",
   "metadata": {},
   "source": [
    "<img src=\"https://datascienceschool.net/upfiles/c7669ac5286b45feb4e90a1b5dadca53.jpeg\"/>"
   ]
  },
  {
   "cell_type": "markdown",
   "metadata": {
    "school_cell_uuid": "5ad02c933a334df4ab32759aa2db507e"
   },
   "source": [
    "[[school_notebook:d37942e709f6440899f0f2a0304d521b]]"
   ]
  },
  {
   "cell_type": "markdown",
   "metadata": {},
   "source": [
    "## 0. 파이썬 설치와 사용법"
   ]
  },
  {
   "cell_type": "markdown",
   "metadata": {
    "school_cell_uuid": "d2e91038bf824a27b0be14215442e549"
   },
   "source": [
    "[[school_notebook:26ca8377076541b2b514cd5ed97c554d]]"
   ]
  },
  {
   "cell_type": "markdown",
   "metadata": {
    "school_cell_uuid": "d2e91038bf824a27b0be14215442e549"
   },
   "source": [
    "[[school_notebook:5e52b7c4b5754f2585844c8d9b26cdb5]]"
   ]
  },
  {
   "cell_type": "markdown",
   "metadata": {
    "school_cell_uuid": "c7e08afe1f4f40a3bd2be8785f7af501"
   },
   "source": [
    "[[school_notebook:ab78f919fdb84e838039c674acba5650]]"
   ]
  },
  {
   "cell_type": "markdown",
   "metadata": {
    "school_cell_uuid": "ce134c2eee544834b39364b5ea6a1b3a"
   },
   "source": [
    "[[school_notebook:b85212ea4040408e8ebd6d3495f2c91b]]"
   ]
  },
  {
   "cell_type": "markdown",
   "metadata": {
    "school_cell_uuid": "1c8ef8c2d2f54badbf32b74552dfa0ef"
   },
   "source": [
    "[[school_notebook:21b069aa5f3043cfb2ab0d15d7f7561e]]"
   ]
  },
  {
   "cell_type": "markdown",
   "metadata": {
    "school_cell_uuid": "aab9ded978cf488b81379242e2d1846f"
   },
   "source": [
    "[[school_notebook:5a3b9aaade8545c38ab4b888dd9516d4]]"
   ]
  },
  {
   "cell_type": "markdown",
   "metadata": {
    "school_cell_uuid": "aab9ded978cf488b81379242e2d1846f"
   },
   "source": [
    "[[school_notebook:338fe23b46464e9b9c4d4c8f8c7c7258]]"
   ]
  },
  {
   "cell_type": "markdown",
   "metadata": {
    "school_cell_uuid": "c66bd4f38bdc44a9bcdd8640b0ff81b1"
   },
   "source": [
    "## 1장 수학 기호"
   ]
  },
  {
   "cell_type": "markdown",
   "metadata": {
    "school_cell_uuid": "52289d5e2944467b8bf412f54d058938"
   },
   "source": [
    "[[school_notebook:32b74a313f9d402486cd0b990b9b2854]]"
   ]
  },
  {
   "cell_type": "markdown",
   "metadata": {
    "school_cell_uuid": "954b7128b0a148ed997de38c99db3c26"
   },
   "source": [
    "[[school_notebook:e943c350244842a99ab4503fa50b8a6b]]"
   ]
  },
  {
   "cell_type": "markdown",
   "metadata": {
    "school_cell_uuid": "081faf6ed4a64e78a5a971d95999c395"
   },
   "source": [
    "[[school_notebook:f4e77fde0de64b0ab1001810881544e1]]"
   ]
  },
  {
   "cell_type": "markdown",
   "metadata": {
    "school_cell_uuid": "47da30ab2b3b4d0aad232b484b21b94b"
   },
   "source": [
    "## 2장 넘파이(NumPy)로 공부하는 선형대수"
   ]
  },
  {
   "cell_type": "markdown",
   "metadata": {
    "school_cell_uuid": "091b5d66e1a944d392960ca4d8938fd6"
   },
   "source": [
    "[[school_notebook:ccd8e4ad51074417b976b37d80ba0abf]]"
   ]
  },
  {
   "cell_type": "markdown",
   "metadata": {
    "school_cell_uuid": "e8cdd96b8241448b9780221c5dc432a2"
   },
   "source": [
    "[[school_notebook:cd600e9627cd4f16bc4f6078231ab28c]]"
   ]
  },
  {
   "cell_type": "markdown",
   "metadata": {
    "school_cell_uuid": "e8cdd96b8241448b9780221c5dc432a2"
   },
   "source": [
    "[[school_notebook:3f44cfdda2874080a9aa6b034c71d5ec]]"
   ]
  },
  {
   "cell_type": "markdown",
   "metadata": {
    "school_cell_uuid": "2861b3d0f2c9446e97b1911565f4f9d3"
   },
   "source": [
    "[[school_notebook:d6205659aff0413797c22552947aec83]]"
   ]
  },
  {
   "cell_type": "markdown",
   "metadata": {
    "school_cell_uuid": "1fbf560c7a084ffaa5d9d7a00c5a3ee6"
   },
   "source": [
    "[[school_notebook:927d7f7972dd434ead9d294169ae7f34]]"
   ]
  },
  {
   "cell_type": "markdown",
   "metadata": {
    "school_cell_uuid": "48a228190cae4f328feb45a989598658"
   },
   "source": [
    "## 3장 고급 선형대수"
   ]
  },
  {
   "cell_type": "markdown",
   "metadata": {
    "school_cell_uuid": "246c8b0e9aee4580863d2b66b4950951"
   },
   "source": [
    "[[school_notebook:87c0b53e0b0a464daf9ebeecd3a2d834]]"
   ]
  },
  {
   "cell_type": "markdown",
   "metadata": {
    "school_cell_uuid": "739f6b849a4f48d9a4639a16869d7943"
   },
   "source": [
    "[[school_notebook:dd1680bfbaab414a8d54dc978c6e883a]]"
   ]
  },
  {
   "cell_type": "markdown",
   "metadata": {
    "school_cell_uuid": "57fa94de7c8b4b909ce196191ba57bee"
   },
   "source": [
    "[[school_notebook:41138b1b54454caf819d9288d26560c7]]"
   ]
  },
  {
   "cell_type": "markdown",
   "metadata": {
    "school_cell_uuid": "84629b4f033740e4b856ad11c26cd3f3"
   },
   "source": [
    "[[school_notebook:7fd58178d9e64be682058db7e024d8b5]]"
   ]
  },
  {
   "cell_type": "markdown",
   "metadata": {
    "school_cell_uuid": "ff7e130c2b724e85bf95f12a190ea485"
   },
   "source": [
    "[[school_notebook:30055dc68e8f4db0b7f6e4b56a571d52]]"
   ]
  },
  {
   "cell_type": "markdown",
   "metadata": {
    "school_cell_uuid": "29d13c358a144b87ba5a4881b08d1045"
   },
   "source": [
    "[[school_notebook:f10aad8a34a4489697933f77c5d58e3a]]"
   ]
  },
  {
   "cell_type": "markdown",
   "metadata": {
    "school_cell_uuid": "1344ba81f6134f74b4d5f4a02d33676d"
   },
   "source": [
    "## 4장 심파이(SymPy)로 공부하는 미적분"
   ]
  },
  {
   "cell_type": "markdown",
   "metadata": {
    "school_cell_uuid": "5b78b8d271bf4ed19189c940004d743c"
   },
   "source": [
    "[[school_notebook:717dad8b4b6b4a7daa5a6fb86ed96c95]]"
   ]
  },
  {
   "cell_type": "markdown",
   "metadata": {
    "school_cell_uuid": "5b78b8d271bf4ed19189c940004d743c"
   },
   "source": [
    "[[school_notebook:6076dff5c5c942778d0dc6d349c24930]]"
   ]
  },
  {
   "cell_type": "markdown",
   "metadata": {
    "school_cell_uuid": "e07e6cdb01b44bdfacc2c8f82fc12f5a"
   },
   "source": [
    "[[school_notebook:5f5f4a966f9042efa43d711008df9c0b]]"
   ]
  },
  {
   "cell_type": "markdown",
   "metadata": {
    "school_cell_uuid": "e07e6cdb01b44bdfacc2c8f82fc12f5a"
   },
   "source": [
    "[[school_notebook:c970d15a74d24656988c8f020e96ce45]]"
   ]
  },
  {
   "cell_type": "markdown",
   "metadata": {
    "school_cell_uuid": "e90c97e101ce4638b69bbe189e621e04"
   },
   "source": [
    "[[school_notebook:8595892721714eb68be24727b5323778]]"
   ]
  },
  {
   "cell_type": "markdown",
   "metadata": {
    "school_cell_uuid": "3b4a8d4efa884bd2b0a8331c87e59743"
   },
   "source": [
    "[[school_notebook:006a077ee4964eb58c6b08b213126f8f]]"
   ]
  },
  {
   "cell_type": "markdown",
   "metadata": {
    "school_cell_uuid": "ef55afce172b4db48bbe6ba674f9d654"
   },
   "source": [
    "## 5장 사이파이(SciPy)로 공부하는 최적화"
   ]
  },
  {
   "cell_type": "markdown",
   "metadata": {
    "school_cell_uuid": "00b91ddbbd16468fb757188acbcaaa8b"
   },
   "source": [
    "[[school_notebook:968c34fd6b404fcab12cbbbfd36418a2]]"
   ]
  },
  {
   "cell_type": "markdown",
   "metadata": {
    "school_cell_uuid": "00b91ddbbd16468fb757188acbcaaa8b"
   },
   "source": [
    "[[school_notebook:4642b9f187784444b8f3a8309c583007]]"
   ]
  },
  {
   "cell_type": "markdown",
   "metadata": {
    "school_cell_uuid": "00b91ddbbd16468fb757188acbcaaa8b"
   },
   "source": [
    "[[school_notebook:0c66f1810445488baf19cac79305793b]]"
   ]
  },
  {
   "cell_type": "markdown",
   "metadata": {
    "school_cell_uuid": "3b4a8d4efa884bd2b0a8331c87e59743"
   },
   "source": [
    "[[school_notebook:0fca28c71c13460fb7168ee2adb9a8be]]"
   ]
  },
  {
   "cell_type": "markdown",
   "metadata": {
    "school_cell_uuid": "e3bd62534b7d4228be0357d94b5b8bc4"
   },
   "source": [
    "## 6장 피지엠파이(pgmpy)로 공부하는 확률론"
   ]
  },
  {
   "cell_type": "markdown",
   "metadata": {
    "school_cell_uuid": "505e504f6666405fb7fc197c4ed8efa3"
   },
   "source": [
    "[[school_notebook:fad9b9dc68c7420494497b0299a09435]]"
   ]
  },
  {
   "cell_type": "markdown",
   "metadata": {
    "school_cell_uuid": "505e504f6666405fb7fc197c4ed8efa3"
   },
   "source": [
    "[[school_notebook:ea7b25919b094cc9a7ff934697bf3886]]"
   ]
  },
  {
   "cell_type": "markdown",
   "metadata": {
    "school_cell_uuid": "3162f7d093a440e8a7181c6ca7b717fe"
   },
   "source": [
    "[[school_notebook:9341c66303174eea9d35b2e4b6981ed9]]"
   ]
  },
  {
   "cell_type": "markdown",
   "metadata": {
    "school_cell_uuid": "d04f549467c149cbb0ea7027b02390f0"
   },
   "source": [
    "[[school_notebook:d410ba427b5f456289ca1dd64ad2b0c5]]"
   ]
  },
  {
   "cell_type": "markdown",
   "metadata": {
    "school_cell_uuid": "51bf5d6c233b4569946bb13266ff64b6"
   },
   "source": [
    "[[school_notebook:c46ce2d2a60d48edbc7c3e6e71394c26]]"
   ]
  },
  {
   "cell_type": "markdown",
   "metadata": {
    "school_cell_uuid": "29e97ff60e8548a6af0fbbf6402a79ba"
   },
   "source": [
    "[[school_notebook:f77e7d3f59b8437181dff01a88520f09]]"
   ]
  },
  {
   "cell_type": "markdown",
   "metadata": {
    "school_cell_uuid": "f53a964f74e2454a937b05c465c24159"
   },
   "source": [
    "[[school_notebook:f68d16df9ea448689ae66dc2140fe673]]"
   ]
  },
  {
   "cell_type": "markdown",
   "metadata": {
    "school_cell_uuid": "17162a1072584d3da32d5c854260a63b"
   },
   "source": [
    "## 7장 확률변수와 상관관계"
   ]
  },
  {
   "cell_type": "markdown",
   "metadata": {
    "school_cell_uuid": "84473fcb3b214f77b78b8b36d72cb825"
   },
   "source": [
    "[[school_notebook:bd90ddeda9c24bcd9314336ec27f56aa]]"
   ]
  },
  {
   "cell_type": "markdown",
   "metadata": {
    "school_cell_uuid": "84473fcb3b214f77b78b8b36d72cb825"
   },
   "source": [
    "[[school_notebook:8c39a71b453e43d9bd1000f38638e937]]"
   ]
  },
  {
   "cell_type": "markdown",
   "metadata": {
    "school_cell_uuid": "24e3c3cdb48f4a55b246b256cc85862f"
   },
   "source": [
    "[[school_notebook:dd6a7633d69f401bb00409b9ae8806e8]]"
   ]
  },
  {
   "cell_type": "markdown",
   "metadata": {
    "school_cell_uuid": "efc3f99c3943414f8f4b1496158fb162"
   },
   "source": [
    "[[school_notebook:b9dcd289a49546ffacfdc5f5bc9a2fc0]]"
   ]
  },
  {
   "cell_type": "markdown",
   "metadata": {
    "school_cell_uuid": "3191061551d048f6b3b4a10c5e5c2506"
   },
   "source": [
    "[[school_notebook:e5c379559a4a4fe9a9d8eeace69da425]]"
   ]
  },
  {
   "cell_type": "markdown",
   "metadata": {
    "school_cell_uuid": "23e957f04ce54c77804912f14bf84d26"
   },
   "source": [
    "[[school_notebook:4cab41c0d9cd4eafaff8a45f590592c5]]"
   ]
  },
  {
   "cell_type": "markdown",
   "metadata": {
    "school_cell_uuid": "7fdb59af266643989b893bedfb21e850"
   },
   "source": [
    "[[school_notebook:88867007c4cf4f5b96e3d07afa83206f]]"
   ]
  },
  {
   "cell_type": "markdown",
   "metadata": {
    "school_cell_uuid": "fbfc41ddeb2b4c20bc6a1d35703a219b"
   },
   "source": [
    "## 8장 사이파이로 공부하는 확률분포"
   ]
  },
  {
   "cell_type": "markdown",
   "metadata": {
    "school_cell_uuid": "985ccf7a6aba4ee1b188a2ff1077bcb7"
   },
   "source": [
    "[[school_notebook:446776ac56c14ecf8e6609fcbff1235b]]"
   ]
  },
  {
   "cell_type": "markdown",
   "metadata": {
    "school_cell_uuid": "b234363f09f74367bf1a834da9d379d1"
   },
   "source": [
    "[[school_notebook:e6c0d4ff9f4c403c8587c7d394bc930a]]"
   ]
  },
  {
   "cell_type": "markdown",
   "metadata": {
    "school_cell_uuid": "b234363f09f74367bf1a834da9d379d1"
   },
   "source": [
    "[[school_notebook:5e2ee247518f47a6ba2d0894b33c73a3]]"
   ]
  },
  {
   "cell_type": "markdown",
   "metadata": {
    "school_cell_uuid": "60507756fed24e6c8fcb3dce802a3614"
   },
   "source": [
    "[[school_notebook:354eb1d0e307423697ed805df07b96a5]]"
   ]
  },
  {
   "cell_type": "markdown",
   "metadata": {
    "school_cell_uuid": "9b9e3e87f1574bdc8b58192e656f34b8"
   },
   "source": [
    "[[school_notebook:76acc92d28354e86940001f9fe85c50f]]"
   ]
  },
  {
   "cell_type": "markdown",
   "metadata": {
    "school_cell_uuid": "cd91344441234cbea03dad4ccec66c09"
   },
   "source": [
    "[[school_notebook:8956e37db86c44b3b1b3a4c3357e590c]]"
   ]
  },
  {
   "cell_type": "markdown",
   "metadata": {
    "school_cell_uuid": "a2ab8b9ecbd94783afedc6f519c5c856"
   },
   "source": [
    "[[school_notebook:178adb41ee8141da83f1ba467e454ee2]]"
   ]
  },
  {
   "cell_type": "markdown",
   "metadata": {
    "school_cell_uuid": "8a6ab19af3cd4565becd24766dcab151"
   },
   "source": [
    "[[school_notebook:70a372b9c14a4e8d9d49737f0b5a3c97]]"
   ]
  },
  {
   "cell_type": "markdown",
   "metadata": {
    "school_cell_uuid": "9a348ea96f17414997847f29d5d828dd"
   },
   "source": [
    "## 9장 추정과 검정"
   ]
  },
  {
   "cell_type": "markdown",
   "metadata": {
    "school_cell_uuid": "8b25fff1afd64a39b8874a57056b9a01"
   },
   "source": [
    "[[school_notebook:43cbdd7d8b334bb9a1b4a1381966cd95]]"
   ]
  },
  {
   "cell_type": "markdown",
   "metadata": {
    "school_cell_uuid": "8b25fff1afd64a39b8874a57056b9a01"
   },
   "source": [
    "[[school_notebook:87b67dafd7544e3380af278ff4f22d77]]"
   ]
  },
  {
   "cell_type": "markdown",
   "metadata": {
    "school_cell_uuid": "a3d2212adf81493599b27ffc269ded53"
   },
   "source": [
    "[[school_notebook:864a2cc43df44531be32e3fa48769501]]"
   ]
  },
  {
   "cell_type": "markdown",
   "metadata": {
    "school_cell_uuid": "8d04feabaa7b4fd5ab8702f6768ea5b6"
   },
   "source": [
    "[[school_notebook:ae35a40deb884cf88e85135b4b5a1130]]"
   ]
  },
  {
   "cell_type": "markdown",
   "metadata": {
    "school_cell_uuid": "a3f9cccf44964fb89722bcd4c2c574fa"
   },
   "source": [
    "[[school_notebook:37a330dfc8de45e9ba475cbbd201ab53]]"
   ]
  },
  {
   "cell_type": "markdown",
   "metadata": {
    "school_cell_uuid": "e8f202128311406189decb07cb155c7c"
   },
   "source": [
    "[[school_notebook:14bde0cc05514b2cae2088805ef9ed52]]"
   ]
  },
  {
   "cell_type": "markdown",
   "metadata": {
    "school_cell_uuid": "3e14d4440f9c499babe2c44dcb90c26e"
   },
   "source": [
    "## 10장 엔트로피"
   ]
  },
  {
   "cell_type": "markdown",
   "metadata": {
    "school_cell_uuid": "a5501a2ea5874ef4812565294b9db63f"
   },
   "source": [
    "[[school_notebook:addf701989664d11beb9aeef693487ce]]"
   ]
  },
  {
   "cell_type": "markdown",
   "metadata": {
    "school_cell_uuid": "a5501a2ea5874ef4812565294b9db63f"
   },
   "source": [
    "[[school_notebook:d3ecf5cc7027441c8509c0cae7fea088]]"
   ]
  },
  {
   "cell_type": "markdown",
   "metadata": {
    "school_cell_uuid": "a956f3cf2e44425784c592e79454a866"
   },
   "source": [
    "[[school_notebook:8bb5f4868f4e4a318d334ff0d9227d53]]"
   ]
  },
  {
   "cell_type": "markdown",
   "metadata": {
    "school_cell_uuid": "0c448c98c95446e1b4cf77ddf3848a14"
   },
   "source": [
    "[[school_notebook:2553d83904a14038944019550a19e4b2]]"
   ]
  },
  {
   "cell_type": "markdown",
   "metadata": {
    "school_cell_uuid": "cc7f9ffd5fbf4c98b6bd127252eb52e0"
   },
   "source": [
    "[[school_notebook:ff367da95afc43ed8ae6ec30efc0fb9f]]"
   ]
  },
  {
   "cell_type": "markdown",
   "metadata": {},
   "source": [
    "## 부록"
   ]
  },
  {
   "cell_type": "markdown",
   "metadata": {
    "school_cell_uuid": "cc7f9ffd5fbf4c98b6bd127252eb52e0"
   },
   "source": [
    "[[school_notebook:33e93be096b2433b8f8841bbd67ab6d7]]"
   ]
  }
 ],
 "metadata": {
  "anaconda-cloud": {},
  "celltoolbar": "Edit Metadata",
  "kernelspec": {
   "display_name": "Python 3",
   "language": "python",
   "name": "python3"
  },
  "language_info": {
   "codemirror_mode": {
    "name": "ipython",
    "version": 3
   },
   "file_extension": ".py",
   "mimetype": "text/x-python",
   "name": "python",
   "nbconvert_exporter": "python",
   "pygments_lexer": "ipython3",
   "version": "3.7.1"
  },
  "latex_envs": {
   "LaTeX_envs_menu_present": true,
   "autoclose": false,
   "autocomplete": true,
   "bibliofile": "biblio.bib",
   "cite_by": "apalike",
   "current_citInitial": 1,
   "eqLabelWithNumbers": true,
   "eqNumInitial": 1,
   "hotkeys": {
    "equation": "Ctrl-E",
    "itemize": "Ctrl-I"
   },
   "labels_anchors": false,
   "latex_user_defs": false,
   "report_style_numbering": false,
   "user_envs_cfg": false
  },
  "toc": {
   "base_numbering": 1,
   "nav_menu": {},
   "number_sections": false,
   "sideBar": true,
   "skip_h1_title": false,
   "title_cell": "Table of Contents",
   "title_sidebar": "Contents",
   "toc_cell": false,
   "toc_position": {},
   "toc_section_display": true,
   "toc_window_display": false
  }
 },
 "nbformat": 4,
 "nbformat_minor": 4
}
