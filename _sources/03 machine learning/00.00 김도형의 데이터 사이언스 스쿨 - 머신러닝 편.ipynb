{
 "cells": [
  {
   "cell_type": "markdown",
   "metadata": {
    "school_cell_uuid": "79eaac4c5248428dbfb15c110f06874b"
   },
   "source": [
    "# 김도형의 데이터 사이언스 스쿨 - 머신러닝 편"
   ]
  },
  {
   "cell_type": "markdown",
   "metadata": {},
   "source": [
    "## 0. 파이썬 설치와 사용법"
   ]
  },
  {
   "cell_type": "markdown",
   "metadata": {
    "school_cell_uuid": "d2e91038bf824a27b0be14215442e549"
   },
   "source": [
    "[[school_notebook:26ca8377076541b2b514cd5ed97c554d]]"
   ]
  },
  {
   "cell_type": "markdown",
   "metadata": {
    "school_cell_uuid": "d2e91038bf824a27b0be14215442e549"
   },
   "source": [
    "[[school_notebook:5e52b7c4b5754f2585844c8d9b26cdb5]]"
   ]
  },
  {
   "cell_type": "markdown",
   "metadata": {
    "school_cell_uuid": "c7e08afe1f4f40a3bd2be8785f7af501"
   },
   "source": [
    "[[school_notebook:ab78f919fdb84e838039c674acba5650]]"
   ]
  },
  {
   "cell_type": "markdown",
   "metadata": {
    "school_cell_uuid": "ce134c2eee544834b39364b5ea6a1b3a"
   },
   "source": [
    "[[school_notebook:b85212ea4040408e8ebd6d3495f2c91b]]"
   ]
  },
  {
   "cell_type": "markdown",
   "metadata": {
    "school_cell_uuid": "1c8ef8c2d2f54badbf32b74552dfa0ef"
   },
   "source": [
    "[[school_notebook:21b069aa5f3043cfb2ab0d15d7f7561e]]"
   ]
  },
  {
   "cell_type": "markdown",
   "metadata": {
    "school_cell_uuid": "aab9ded978cf488b81379242e2d1846f"
   },
   "source": [
    "[[school_notebook:5a3b9aaade8545c38ab4b888dd9516d4]]"
   ]
  },
  {
   "cell_type": "markdown",
   "metadata": {
    "school_cell_uuid": "aab9ded978cf488b81379242e2d1846f"
   },
   "source": [
    "[[school_notebook:338fe23b46464e9b9c4d4c8f8c7c7258]]"
   ]
  },
  {
   "cell_type": "markdown",
   "metadata": {},
   "source": [
    "## 1. 소개"
   ]
  },
  {
   "cell_type": "markdown",
   "metadata": {
    "school_cell_uuid": "d9b6c433005442f2bb6e7e2dc19c2a4a"
   },
   "source": [
    "[[school_notebook:6706f10f452a4d2e8095942f6e9def15]]"
   ]
  },
  {
   "cell_type": "markdown",
   "metadata": {
    "school_cell_uuid": "d9b6c433005442f2bb6e7e2dc19c2a4a"
   },
   "source": [
    "[[school_notebook:d64c001b36c14a5681d58b77c7a651d0]]"
   ]
  },
  {
   "cell_type": "markdown",
   "metadata": {},
   "source": [
    "## 2. 데이터 전처리"
   ]
  },
  {
   "cell_type": "markdown",
   "metadata": {
    "school_cell_uuid": "d9b6c433005442f2bb6e7e2dc19c2a4a"
   },
   "source": [
    "[[school_notebook:d96dcbf7f8ac4ee4bf3875b66b2da654]]"
   ]
  },
  {
   "cell_type": "markdown",
   "metadata": {
    "school_cell_uuid": "d9b6c433005442f2bb6e7e2dc19c2a4a"
   },
   "source": [
    "[[school_notebook:953eb363588c421d9162330c6c7df901]]"
   ]
  },
  {
   "cell_type": "markdown",
   "metadata": {},
   "source": [
    "## 3. 분야별 데이터 처리"
   ]
  },
  {
   "cell_type": "markdown",
   "metadata": {},
   "source": [
    "### 03.01 텍스트 데이터"
   ]
  },
  {
   "cell_type": "markdown",
   "metadata": {
    "school_cell_uuid": "8233361d71a14c35be26491891eaa17c"
   },
   "source": [
    "[[school_notebook:8895b16a141749a9bb381007d52721c1]]"
   ]
  },
  {
   "cell_type": "markdown",
   "metadata": {
    "school_cell_uuid": "8233361d71a14c35be26491891eaa17c"
   },
   "source": [
    "[[school_notebook:a0237ff8f13a454c96072f868c01bc30]]"
   ]
  },
  {
   "cell_type": "markdown",
   "metadata": {
    "school_cell_uuid": "8233361d71a14c35be26491891eaa17c"
   },
   "source": [
    "[[school_notebook:28d99abcbef2444aaf7b76b0bd3c6fc1]]"
   ]
  },
  {
   "cell_type": "markdown",
   "metadata": {},
   "source": [
    "### 03.02 이미지 데이터"
   ]
  },
  {
   "cell_type": "markdown",
   "metadata": {
    "school_cell_uuid": "0fc89d5c6cb24fe58b4c4463a963d12a"
   },
   "source": [
    "[[school_notebook:9af8d8e93c084bc49f0ac2bb8a20e2a4]]"
   ]
  },
  {
   "cell_type": "markdown",
   "metadata": {
    "school_cell_uuid": "f590dc2f523f46e69cd9197e34a99366"
   },
   "source": [
    "[[school_notebook:c4121d311aa34e6faa84f62ef06e43b0]]"
   ]
  },
  {
   "cell_type": "markdown",
   "metadata": {
    "school_cell_uuid": "eaf378daf6d3474bb651ce19138fa525"
   },
   "source": [
    "[[school_notebook:f9f8983941254a34bf0fee42c66c5539]]"
   ]
  },
  {
   "cell_type": "markdown",
   "metadata": {
    "school_cell_uuid": "06aa79b1c69b4f3d9d15179e20d7d58b"
   },
   "source": [
    "[[school_notebook:70820c6bcf154b8cb8161b4f93e4880d]]"
   ]
  },
  {
   "cell_type": "markdown",
   "metadata": {
    "school_cell_uuid": "c50c4161240741e9aba8314e59764466"
   },
   "source": [
    "[[school_notebook:7eb4b2a440824bb0a8c2c7ce3da7a4e2]]"
   ]
  },
  {
   "cell_type": "markdown",
   "metadata": {
    "school_cell_uuid": "2395bf6380434323a2bb85a299b3b144"
   },
   "source": [
    "[[school_notebook:9e937a00db014e11b75f6d841abb18e9]]"
   ]
  },
  {
   "cell_type": "markdown",
   "metadata": {},
   "source": [
    "### 03.03 사운드 데이터"
   ]
  },
  {
   "cell_type": "markdown",
   "metadata": {
    "school_cell_uuid": "fa4d1b7e1b0241299b33aa8a0de3568b"
   },
   "source": [
    "[[school_notebook:1302355679f743bf9733252dd1a04111]]"
   ]
  },
  {
   "cell_type": "markdown",
   "metadata": {
    "school_cell_uuid": "fa4d1b7e1b0241299b33aa8a0de3568b"
   },
   "source": [
    "[[school_notebook:691326b7f88644f79ec7ddc9f27f84ec]]"
   ]
  },
  {
   "cell_type": "markdown",
   "metadata": {},
   "source": [
    "### 03.04 지리정보 데이터"
   ]
  },
  {
   "cell_type": "markdown",
   "metadata": {
    "school_cell_uuid": "021223efd8ea4e21ac8d255de642b63e"
   },
   "source": [
    "[[school_notebook:ef921dc25e01437b9b5c532ba3b89b02]]"
   ]
  },
  {
   "cell_type": "markdown",
   "metadata": {
    "school_cell_uuid": "55201795f3de4d419fbf1ddd31823598"
   },
   "source": [
    "[[school_notebook:5f96a8a8079f411c9f7c4b0715262f5b]]"
   ]
  },
  {
   "cell_type": "markdown",
   "metadata": {},
   "source": [
    "## 4. 선형회귀분석의 기초"
   ]
  },
  {
   "cell_type": "markdown",
   "metadata": {
    "school_cell_uuid": "d9b6c433005442f2bb6e7e2dc19c2a4a"
   },
   "source": [
    "[[school_notebook:992c035b1a8c410f8f7d2fd8c0a52808]]"
   ]
  },
  {
   "cell_type": "markdown",
   "metadata": {
    "school_cell_uuid": "d9b6c433005442f2bb6e7e2dc19c2a4a"
   },
   "source": [
    "[[school_notebook:0dce05b2e8a44401bdebc6639f00b3dd]]"
   ]
  },
  {
   "cell_type": "markdown",
   "metadata": {
    "school_cell_uuid": "d9b6c433005442f2bb6e7e2dc19c2a4a"
   },
   "source": [
    "[[school_notebook:ebeaa25409a14fa099a6d86fd515c621]]"
   ]
  },
  {
   "cell_type": "markdown",
   "metadata": {
    "school_cell_uuid": "d9b6c433005442f2bb6e7e2dc19c2a4a"
   },
   "source": [
    "[[school_notebook:6cf58b2d56f0488da39abbf0e86807e5]]"
   ]
  },
  {
   "cell_type": "markdown",
   "metadata": {
    "school_cell_uuid": "d9b6c433005442f2bb6e7e2dc19c2a4a"
   },
   "source": [
    "[[school_notebook:fce4d5dd5fdd4778a55a2056f00cbe87]]"
   ]
  },
  {
   "cell_type": "markdown",
   "metadata": {},
   "source": [
    "## 5. 확률론적 선형회귀분석"
   ]
  },
  {
   "cell_type": "markdown",
   "metadata": {
    "school_cell_uuid": "b05f057352ec490c9a6419261e4dcde8"
   },
   "source": [
    "[[school_notebook:a42a946ebf5a497d8adb2af90f760c8d]]"
   ]
  },
  {
   "cell_type": "markdown",
   "metadata": {
    "school_cell_uuid": "d9b6c433005442f2bb6e7e2dc19c2a4a"
   },
   "source": [
    "[[school_notebook:aaa4990fb40f4f2ebe64db6d43d13807]]"
   ]
  },
  {
   "cell_type": "markdown",
   "metadata": {
    "school_cell_uuid": "a8a6720ba87444d6b7189e378fefc09c"
   },
   "source": [
    "[[school_notebook:4e71dba5d0af49a5a5dfa424a05632bf]]"
   ]
  },
  {
   "cell_type": "markdown",
   "metadata": {
    "school_cell_uuid": "5110882694ab44028bd757f474bed9d7"
   },
   "source": [
    "[[school_notebook:7061c403f22147fdac6afed737204b75]]"
   ]
  },
  {
   "cell_type": "markdown",
   "metadata": {},
   "source": [
    "## 6. 과최적화와 정규화"
   ]
  },
  {
   "cell_type": "markdown",
   "metadata": {
    "school_cell_uuid": "8309c8568b0f44eb8b8725af79c369e2"
   },
   "source": [
    "[[school_notebook:7ac05cae71b44730b3e252f2f44e759f]]"
   ]
  },
  {
   "cell_type": "markdown",
   "metadata": {
    "school_cell_uuid": "f5dd627d51dc495eb7334bd21b963571"
   },
   "source": [
    "[[school_notebook:3bc49d68c952458a8e17b588a0cd16c4]]"
   ]
  },
  {
   "cell_type": "markdown",
   "metadata": {
    "school_cell_uuid": "14b1f6a36d7c40ee8c24ea42b50716a7"
   },
   "source": [
    "[[school_notebook:37520f4c2c9240d6a7eff1149ca6bf49]]"
   ]
  },
  {
   "cell_type": "markdown",
   "metadata": {
    "school_cell_uuid": "223f3732059f47a68ac82449a2597f26"
   },
   "source": [
    "[[school_notebook:0a09a54678bf4e1fa6cb9eda1219d11b]]"
   ]
  },
  {
   "cell_type": "markdown",
   "metadata": {
    "school_cell_uuid": "663e3e740eb543c29b5bf6b4c389d92f"
   },
   "source": [
    "[[school_notebook:b2683a3acb0448829393ff4bc9c40bcc]]"
   ]
  },
  {
   "cell_type": "markdown",
   "metadata": {
    "school_cell_uuid": "5a3f9c1aeb54444c96c9823697b34170"
   },
   "source": [
    "## 7. 추천 시스템"
   ]
  },
  {
   "cell_type": "markdown",
   "metadata": {
    "school_cell_uuid": "2778cb05f8574060ae5f179ba43d17f6"
   },
   "source": [
    "[[school_notebook:fcd3550f11ac4537acec8d18136f2066]]"
   ]
  },
  {
   "cell_type": "markdown",
   "metadata": {},
   "source": [
    "## 8. 시계열 분석"
   ]
  },
  {
   "cell_type": "markdown",
   "metadata": {},
   "source": [
    "## 9. 분류분석 입문"
   ]
  },
  {
   "cell_type": "markdown",
   "metadata": {
    "school_cell_uuid": "43cea6b92dcf4116a326c44d93b63da5"
   },
   "source": [
    "[[school_notebook:577a01e24d4f456bb5060da6e47054e1]]"
   ]
  },
  {
   "cell_type": "markdown",
   "metadata": {
    "school_cell_uuid": "b98ebcd6cec44acf83d174e7ab65bfc7"
   },
   "source": [
    "[[school_notebook:ec26c797cec646e295d737c522733b15]]"
   ]
  },
  {
   "cell_type": "markdown",
   "metadata": {
    "school_cell_uuid": "3d53b5fd60aa485f8db9bf077c70637b"
   },
   "source": [
    "[[school_notebook:e2790743099742a396cfa4955ffc8a1f]]"
   ]
  },
  {
   "cell_type": "markdown",
   "metadata": {
    "school_cell_uuid": "a98d61039f1746af977b056a50e11fae"
   },
   "source": [
    "[[school_notebook:731e0d2ef52c41c686ba53dcaf346f32]]"
   ]
  },
  {
   "cell_type": "markdown",
   "metadata": {},
   "source": [
    "## 10. 로지스틱 회귀분석"
   ]
  },
  {
   "cell_type": "markdown",
   "metadata": {
    "school_cell_uuid": "e0bef974c6fc4032ba5434853aa343e6"
   },
   "source": [
    "[[school_notebook:d0df94cf8dd74e8daec7983531f68dfc]]"
   ]
  },
  {
   "cell_type": "markdown",
   "metadata": {},
   "source": [
    "## 11. 나이브베이즈"
   ]
  },
  {
   "cell_type": "markdown",
   "metadata": {
    "school_cell_uuid": "2d5dcd7f28b94a2f8900a02b203774ce"
   },
   "source": [
    "[[school_notebook:2c6a8e003219446995f3d866ac8a6fd1]]"
   ]
  },
  {
   "cell_type": "markdown",
   "metadata": {
    "school_cell_uuid": "41c6b11dcf3544d38f6768ddfd12ebfe"
   },
   "source": [
    "[[school_notebook:c19b48e3c7b048668f2bb0a113bd25f7]]"
   ]
  },
  {
   "cell_type": "markdown",
   "metadata": {
    "school_cell_uuid": "c8ebdd3b19e6461db19c7d9a4d8c811e"
   },
   "source": [
    "[[school_notebook:3387abe1784248339e418835297e17d2]]"
   ]
  },
  {
   "cell_type": "markdown",
   "metadata": {},
   "source": [
    "## 12. 의사결정나무와 모형결합"
   ]
  },
  {
   "cell_type": "markdown",
   "metadata": {
    "school_cell_uuid": "ec62316a20134399bf8b0398a299da11"
   },
   "source": [
    "[[school_notebook:16c28c8c192147bfb3d4059474209e0a]]"
   ]
  },
  {
   "cell_type": "markdown",
   "metadata": {
    "school_cell_uuid": "76b5ce4b5b204b54a15afaad6caf1258"
   },
   "source": [
    "[[school_notebook:766fe73c5c46424ca65329a9557d0918]]"
   ]
  },
  {
   "cell_type": "markdown",
   "metadata": {
    "school_cell_uuid": "a6004073f09a4528bd3125414ed33adc"
   },
   "source": [
    "[[school_notebook:7d82087c31d64fe491dc74e1d5953ca2]]"
   ]
  },
  {
   "cell_type": "markdown",
   "metadata": {},
   "source": [
    "## 13. 퍼셉트론과 서포트벡터머신"
   ]
  },
  {
   "cell_type": "markdown",
   "metadata": {
    "school_cell_uuid": "523b7257f1464423ae03568cf1f3e0db"
   },
   "source": [
    "[[school_notebook:342b8e2ecf7a4911a727e6fe97f4ab6b]]"
   ]
  },
  {
   "cell_type": "markdown",
   "metadata": {
    "school_cell_uuid": "3f645fff3473443b8ba64f849c3426a3"
   },
   "source": [
    "[[school_notebook:6c6d450cb2ee49558856fd924b326e00]]"
   ]
  },
  {
   "cell_type": "markdown",
   "metadata": {
    "school_cell_uuid": "25725523fbce47f088baa1951297f881"
   },
   "source": [
    "[[school_notebook:69278a5de79449019ad1f51a614ef87c]]"
   ]
  },
  {
   "cell_type": "markdown",
   "metadata": {},
   "source": [
    "## 14. 모형 최적화"
   ]
  },
  {
   "cell_type": "markdown",
   "metadata": {
    "school_cell_uuid": "22bced814fad4d52b530cf8a502a836b"
   },
   "source": [
    "[[school_notebook:ff4b5d491cc34f94aea04baca86fbef8]]"
   ]
  },
  {
   "cell_type": "markdown",
   "metadata": {
    "school_cell_uuid": "78e3e7e7b528479280639df8be74fdb5"
   },
   "source": [
    "[[school_notebook:c1a8dad913f74811ae8eef5d3bedc0c3]]"
   ]
  },
  {
   "cell_type": "markdown",
   "metadata": {
    "school_cell_uuid": "78e3e7e7b528479280639df8be74fdb5"
   },
   "source": [
    "[[school_notebook:bf8d9a70e92b48c2853449ec175c55ab]]"
   ]
  },
  {
   "cell_type": "markdown",
   "metadata": {
    "school_cell_uuid": "78e3e7e7b528479280639df8be74fdb5"
   },
   "source": [
    "[[school_notebook:cabff291dfb046dfaac6e8f14ee50dac]]"
   ]
  },
  {
   "cell_type": "markdown",
   "metadata": {},
   "source": [
    "## 15. 차원축소"
   ]
  },
  {
   "cell_type": "markdown",
   "metadata": {},
   "source": [
    "* 주성분 분석(PCA)\n",
    "* t-SNE"
   ]
  },
  {
   "cell_type": "markdown",
   "metadata": {},
   "source": [
    "## 16. 군집화"
   ]
  },
  {
   "cell_type": "markdown",
   "metadata": {
    "school_cell_uuid": "ce6cdaec96a44de1809c2b2c125f592c"
   },
   "source": [
    "[[school_notebook:54ee87f1caf84311a0efcbe73fa9e1ea]]"
   ]
  },
  {
   "cell_type": "markdown",
   "metadata": {
    "school_cell_uuid": "ce6cdaec96a44de1809c2b2c125f592c"
   },
   "source": [
    "[[school_notebook:2205ad8f0c5947c08696e8927b466341]]"
   ]
  },
  {
   "cell_type": "markdown",
   "metadata": {
    "school_cell_uuid": "ce6cdaec96a44de1809c2b2c125f592c"
   },
   "source": [
    "[[school_notebook:e335aec955e844a981b41e4e11f79174]]"
   ]
  },
  {
   "cell_type": "markdown",
   "metadata": {
    "school_cell_uuid": "63a833865f0047fea8e2c12a7ee0c97f"
   },
   "source": [
    "[[school_notebook:094bcb7b86574711a2e8d81f26bce2f5]]"
   ]
  },
  {
   "cell_type": "markdown",
   "metadata": {
    "school_cell_uuid": "6922c4c46d9343f094e2f98af3057eba"
   },
   "source": [
    "[[school_notebook:3bd9864b09d0466995134220f6779d6d]]"
   ]
  },
  {
   "cell_type": "markdown",
   "metadata": {},
   "source": [
    "## 17. 확률적 그래프 모형"
   ]
  },
  {
   "cell_type": "markdown",
   "metadata": {
    "school_cell_uuid": "74b53b0467c8459494327ec2b4feeb1d"
   },
   "source": [
    "[[school_notebook:bd71d90bc09d4568b50411b0a38bd580]]"
   ]
  },
  {
   "cell_type": "markdown",
   "metadata": {
    "school_cell_uuid": "74b53b0467c8459494327ec2b4feeb1d"
   },
   "source": [
    "[[school_notebook:cba6d8e7667646de9c27e8f9d75f040c]]"
   ]
  },
  {
   "cell_type": "markdown",
   "metadata": {
    "school_cell_uuid": "74b53b0467c8459494327ec2b4feeb1d"
   },
   "source": [
    "[[school_notebook:86c3c9c806c14534bbbf58e5c31dbf09]]"
   ]
  },
  {
   "cell_type": "markdown",
   "metadata": {},
   "source": [
    "## 18. 혼합모형과 변분법적 추론"
   ]
  },
  {
   "cell_type": "markdown",
   "metadata": {
    "school_cell_uuid": "74b53b0467c8459494327ec2b4feeb1d"
   },
   "source": [
    "[[school_notebook:c2934b8a2f9140e4b8364b266b1aa0d8]]"
   ]
  },
  {
   "cell_type": "markdown",
   "metadata": {
    "school_cell_uuid": "74b53b0467c8459494327ec2b4feeb1d"
   },
   "source": [
    "[[school_notebook:3af5d6ba93474cf9b547a0ff823e63b8]]"
   ]
  },
  {
   "cell_type": "markdown",
   "metadata": {},
   "source": [
    "## 19. 몬테카를로 마코프 체인"
   ]
  },
  {
   "cell_type": "markdown",
   "metadata": {
    "school_cell_uuid": "63a833865f0047fea8e2c12a7ee0c97f"
   },
   "source": [
    "[[school_notebook:ea4584bde04140368950ee50ef038833]]"
   ]
  },
  {
   "cell_type": "markdown",
   "metadata": {
    "school_cell_uuid": "72cbad366c254e6880eac7dc4e17d99a"
   },
   "source": [
    "[[school_notebook:66398e69c35f4f6db8d4f025cb587ddc]]"
   ]
  },
  {
   "cell_type": "markdown",
   "metadata": {},
   "source": [
    "## 20. 상태공간 모형"
   ]
  },
  {
   "cell_type": "markdown",
   "metadata": {
    "school_cell_uuid": "1dedf05991c34bd8935948aa63fbc3b3"
   },
   "source": [
    "[[school_notebook:d18fae471dd5463bb5fc06d24dabfdc9]]"
   ]
  },
  {
   "cell_type": "markdown",
   "metadata": {},
   "source": [
    "## 21. 가우스 프로세스"
   ]
  },
  {
   "cell_type": "markdown",
   "metadata": {},
   "source": [
    "## 22. 토픽 모델링"
   ]
  }
 ],
 "metadata": {
  "anaconda-cloud": {},
  "celltoolbar": "Edit Metadata",
  "kernelspec": {
   "display_name": "Python 3",
   "language": "python",
   "name": "python3"
  },
  "language_info": {
   "codemirror_mode": {
    "name": "ipython",
    "version": 3
   },
   "file_extension": ".py",
   "mimetype": "text/x-python",
   "name": "python",
   "nbconvert_exporter": "python",
   "pygments_lexer": "ipython3",
   "version": "3.7.1"
  },
  "latex_envs": {
   "LaTeX_envs_menu_present": true,
   "autoclose": false,
   "autocomplete": true,
   "bibliofile": "biblio.bib",
   "cite_by": "apalike",
   "current_citInitial": 1,
   "eqLabelWithNumbers": true,
   "eqNumInitial": 1,
   "hotkeys": {
    "equation": "Ctrl-E",
    "itemize": "Ctrl-I"
   },
   "labels_anchors": false,
   "latex_user_defs": false,
   "report_style_numbering": false,
   "user_envs_cfg": false
  },
  "toc": {
   "base_numbering": 1,
   "nav_menu": {},
   "number_sections": false,
   "sideBar": true,
   "skip_h1_title": false,
   "title_cell": "Table of Contents",
   "title_sidebar": "Contents",
   "toc_cell": false,
   "toc_position": {},
   "toc_section_display": true,
   "toc_window_display": false
  }
 },
 "nbformat": 4,
 "nbformat_minor": 2
}
