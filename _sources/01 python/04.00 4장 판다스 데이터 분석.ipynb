{
 "cells": [
  {
   "cell_type": "markdown",
   "metadata": {},
   "source": [
    "# 4장 판다스 데이터 분석"
   ]
  },
  {
   "cell_type": "markdown",
   "metadata": {},
   "source": [
    "판다스(Pandas)는 가장 널리 사용되는 파이썬 데이터 분석용 패키지다. 오피스 도구에서 마이크로소프트 엑셀에 해당하는 정도의 중요성을 가진다고 생각하면 된다. 엑셀 없이 업무가 불가능한 것처럼 판다스 패키지 없이 데이터 분석은 불가능하다. 기능적으로 판다스는 사용성이 뛰어난 인메모리 데이터베이스(in-memory database) 기능을 제공한다. "
   ]
  },
  {
   "cell_type": "markdown",
   "metadata": {},
   "source": [
    "## 학습 목표"
   ]
  },
  {
   "cell_type": "markdown",
   "metadata": {},
   "source": [
    "* 판다스를 이용하여 데이터를 시리즈와 데이터프레임 형식으로 만드는 방법을 공부한다.\n",
    "* 엑셀, CSV 파일을 판다스에서 읽고 출력하는 방법을 익힌다.\n",
    "* 판다스의 인덱싱 기능을 사용하여 데이터를 조회할 수 있다.\n",
    "* 복수의 데이터프레임을 조합하는 방법을 공부한다.\n",
    "* 판다스로 그룹 분석을 하고 피봇 테이블을 만드는 방법을 학습한다.\n",
    "* 판다스로 시계열 자료를 다루는 법을 익힌다."
   ]
  },
  {
   "cell_type": "code",
   "execution_count": null,
   "metadata": {},
   "outputs": [],
   "source": []
  }
 ],
 "metadata": {
  "kernelspec": {
   "display_name": "Python 3",
   "language": "python",
   "name": "python3"
  },
  "language_info": {
   "codemirror_mode": {
    "name": "ipython",
    "version": 3
   },
   "file_extension": ".py",
   "mimetype": "text/x-python",
   "name": "python",
   "nbconvert_exporter": "python",
   "pygments_lexer": "ipython3",
   "version": "3.8.3"
  }
 },
 "nbformat": 4,
 "nbformat_minor": 4
}
