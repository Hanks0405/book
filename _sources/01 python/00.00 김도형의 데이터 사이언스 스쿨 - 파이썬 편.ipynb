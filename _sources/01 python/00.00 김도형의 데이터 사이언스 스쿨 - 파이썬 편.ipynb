{
 "cells": [
  {
   "cell_type": "markdown",
   "metadata": {},
   "source": [
    "# 김도형의 데이터 사이언스 스쿨 - 파이썬 편"
   ]
  },
  {
   "cell_type": "markdown",
   "metadata": {},
   "source": [
    "## 0. 파이썬 설치와 사용법"
   ]
  },
  {
   "cell_type": "markdown",
   "metadata": {
    "school_cell_uuid": "d2e91038bf824a27b0be14215442e549"
   },
   "source": [
    "[[school_notebook:26ca8377076541b2b514cd5ed97c554d]]"
   ]
  },
  {
   "cell_type": "markdown",
   "metadata": {
    "school_cell_uuid": "d2e91038bf824a27b0be14215442e549"
   },
   "source": [
    "[[school_notebook:5e52b7c4b5754f2585844c8d9b26cdb5]]"
   ]
  },
  {
   "cell_type": "markdown",
   "metadata": {
    "school_cell_uuid": "aab9ded978cf488b81379242e2d1846f"
   },
   "source": [
    "[[school_notebook:5a3b9aaade8545c38ab4b888dd9516d4]]"
   ]
  },
  {
   "cell_type": "markdown",
   "metadata": {
    "school_cell_uuid": "c7e08afe1f4f40a3bd2be8785f7af501"
   },
   "source": [
    "[[school_notebook:ab78f919fdb84e838039c674acba5650]]"
   ]
  },
  {
   "cell_type": "markdown",
   "metadata": {
    "school_cell_uuid": "ce134c2eee544834b39364b5ea6a1b3a"
   },
   "source": [
    "[[school_notebook:b85212ea4040408e8ebd6d3495f2c91b]]"
   ]
  },
  {
   "cell_type": "markdown",
   "metadata": {
    "school_cell_uuid": "1c8ef8c2d2f54badbf32b74552dfa0ef"
   },
   "source": [
    "[[school_notebook:21b069aa5f3043cfb2ab0d15d7f7561e]]"
   ]
  },
  {
   "cell_type": "markdown",
   "metadata": {
    "school_cell_uuid": "aab9ded978cf488b81379242e2d1846f"
   },
   "source": [
    "[[school_notebook:338fe23b46464e9b9c4d4c8f8c7c7258]]"
   ]
  },
  {
   "cell_type": "markdown",
   "metadata": {},
   "source": [
    "## 1. 파이썬 기초 문법"
   ]
  },
  {
   "cell_type": "markdown",
   "metadata": {
    "school_cell_uuid": "6210c0d43a1c44d59918ba80d38e645f"
   },
   "source": [
    "[[school_notebook:d34cda78eb5c46deaacb394a9311c061]]"
   ]
  },
  {
   "cell_type": "markdown",
   "metadata": {
    "school_cell_uuid": "71ec526339714df993ea34486b488821"
   },
   "source": [
    "[[school_notebook:148fc57f684c4dc48eeb5048ab0d45f2]]"
   ]
  },
  {
   "cell_type": "markdown",
   "metadata": {
    "school_cell_uuid": "6210c0d43a1c44d59918ba80d38e645f"
   },
   "source": [
    "[[school_notebook:ddebe9929d4047409e16c9e6f06f1ed4]]"
   ]
  },
  {
   "cell_type": "markdown",
   "metadata": {
    "school_cell_uuid": "33059293de6a49579438cc6189a8bd38"
   },
   "source": [
    "[[school_notebook:cb85192c4c734d98afcd3d6027dd57b6]]"
   ]
  },
  {
   "cell_type": "markdown",
   "metadata": {
    "school_cell_uuid": "6210c0d43a1c44d59918ba80d38e645f"
   },
   "source": [
    "[[school_notebook:1fa1afd6176848d7874f594dec2a7bc7]]"
   ]
  },
  {
   "cell_type": "markdown",
   "metadata": {
    "school_cell_uuid": "6210c0d43a1c44d59918ba80d38e645f"
   },
   "source": [
    "[[school_notebook:b368c42a39634c9784e9dda0c4318543]]"
   ]
  },
  {
   "cell_type": "markdown",
   "metadata": {
    "school_cell_uuid": "6210c0d43a1c44d59918ba80d38e645f"
   },
   "source": [
    "[[school_notebook:f50da28051c84db08a8af6c92e813888]]"
   ]
  },
  {
   "cell_type": "markdown",
   "metadata": {
    "school_cell_uuid": "6210c0d43a1c44d59918ba80d38e645f"
   },
   "source": [
    "[[school_notebook:b7db5062d333474ca700f1c5f63e3979]]"
   ]
  },
  {
   "cell_type": "markdown",
   "metadata": {
    "school_cell_uuid": "6210c0d43a1c44d59918ba80d38e645f"
   },
   "source": [
    "[[school_notebook:94281f9cd29b4e9e97ab82e5f6f07e15]]"
   ]
  },
  {
   "cell_type": "markdown",
   "metadata": {
    "school_cell_uuid": "6210c0d43a1c44d59918ba80d38e645f"
   },
   "source": [
    "[[school_notebook:6def52f325be4168bcae61a5a7e367ad]]"
   ]
  },
  {
   "cell_type": "markdown",
   "metadata": {
    "school_cell_uuid": "435cf703ea3a402ea3187b40b73b59c7"
   },
   "source": [
    "[[school_notebook:3ed4a1e949f14ff08bcf773705afee8e]]"
   ]
  },
  {
   "cell_type": "markdown",
   "metadata": {
    "school_cell_uuid": "6210c0d43a1c44d59918ba80d38e645f"
   },
   "source": [
    "[[school_notebook:fdbe01932ce74b7983f1862a56e32104]]"
   ]
  },
  {
   "cell_type": "markdown",
   "metadata": {
    "school_cell_uuid": "6210c0d43a1c44d59918ba80d38e645f"
   },
   "source": [
    "[[school_notebook:4ed10a0ab51d41539ca2e52eed9b5a8d]]"
   ]
  },
  {
   "cell_type": "markdown",
   "metadata": {
    "school_cell_uuid": "6210c0d43a1c44d59918ba80d38e645f"
   },
   "source": [
    "[[school_notebook:a55f4411a7c641eebbd377f6292eef52]]"
   ]
  },
  {
   "cell_type": "markdown",
   "metadata": {
    "school_cell_uuid": "185915d9762c4341becf527fadf113e6"
   },
   "source": [
    "[[school_notebook:250c1869eab54157827adf54c5e9f064]]"
   ]
  },
  {
   "cell_type": "markdown",
   "metadata": {
    "school_cell_uuid": "122a7463a6cf4441817f15fdfb481709"
   },
   "source": [
    "[[school_notebook:465066ac92ef4da3b0aba32f76d9750a]]"
   ]
  },
  {
   "cell_type": "markdown",
   "metadata": {},
   "source": [
    "## 2. 벡터와 행렬의 연산"
   ]
  },
  {
   "cell_type": "markdown",
   "metadata": {
    "school_cell_uuid": "59cdf1a688d048d7b3b986bcf1b644d6"
   },
   "source": [
    "[[school_notebook:35099ac4aea146c69cc4b3f50aec736f]]"
   ]
  },
  {
   "cell_type": "markdown",
   "metadata": {
    "school_cell_uuid": "387c178e55fe44c69e6e74df498f4132"
   },
   "source": [
    "[[school_notebook:17608f897087478bbeac096438c716f6]]"
   ]
  },
  {
   "cell_type": "markdown",
   "metadata": {
    "school_cell_uuid": "5692dc85ef8442d9b5a98ddc3951a576"
   },
   "source": [
    "[[school_notebook:464860bf5a5f4e139b05ccc473f1f15c]]"
   ]
  },
  {
   "cell_type": "markdown",
   "metadata": {
    "school_cell_uuid": "380f71dd94b547d381e395ce95ab9ea0"
   },
   "source": [
    "[[school_notebook:1ce4880f58504891b8ab8550fe894a51]]"
   ]
  },
  {
   "cell_type": "markdown",
   "metadata": {
    "school_cell_uuid": "c7f4a20eaa7846518e58fa1316da3fee"
   },
   "source": [
    "[[school_notebook:8bf41f87a08b4c44b307799577736a28]]"
   ]
  },
  {
   "cell_type": "markdown",
   "metadata": {},
   "source": [
    "## 3. 데이터 탐색"
   ]
  },
  {
   "cell_type": "markdown",
   "metadata": {
    "school_cell_uuid": "ce74c9e07334423794559b1ba10b9c6d"
   },
   "source": [
    "[[school_notebook:ee0a5679dd574b94b55193690992f850]]"
   ]
  },
  {
   "cell_type": "markdown",
   "metadata": {
    "school_cell_uuid": "787df3c772764d9497d146e3cc8f3774"
   },
   "source": [
    "[[school_notebook:c5ccddd6716042ee8be3e5436081778b]]"
   ]
  },
  {
   "cell_type": "markdown",
   "metadata": {
    "school_cell_uuid": "fbfe381ae4254fa4af6fccd02347dc16"
   },
   "source": [
    "[[school_notebook:704731b41f794b8ea00768f5b0904512]]"
   ]
  },
  {
   "cell_type": "markdown",
   "metadata": {
    "school_cell_uuid": "787df3c772764d9497d146e3cc8f3774"
   },
   "source": [
    "[[school_notebook:aa62265f02fc429aa636ef343c3b1fda]]"
   ]
  },
  {
   "cell_type": "markdown",
   "metadata": {
    "school_cell_uuid": "fbfe381ae4254fa4af6fccd02347dc16"
   },
   "source": [
    "[[school_notebook:a49bde24674a46699639c1fa9bb7e213]]"
   ]
  },
  {
   "cell_type": "markdown",
   "metadata": {
    "school_cell_uuid": "787df3c772764d9497d146e3cc8f3774"
   },
   "source": [
    "[[school_notebook:7002e92653434bc88c8c026c3449d27b]]"
   ]
  },
  {
   "cell_type": "markdown",
   "metadata": {
    "school_cell_uuid": "9adcbd4a123b4a0499df08b3f085d80e"
   },
   "source": [
    "[[school_notebook:76dcd63bba2c4959af15bec41b197e7c]]"
   ]
  },
  {
   "cell_type": "markdown",
   "metadata": {
    "school_cell_uuid": "9adcbd4a123b4a0499df08b3f085d80e"
   },
   "source": [
    "[[school_notebook:8959673a97214e8fafdb159f254185e9]]"
   ]
  },
  {
   "cell_type": "markdown",
   "metadata": {
    "school_cell_uuid": "9adcbd4a123b4a0499df08b3f085d80e"
   },
   "source": [
    "[[school_notebook:2282b75b2a63448087b77269885c27cb]]"
   ]
  },
  {
   "cell_type": "markdown",
   "metadata": {},
   "source": [
    "## 4. 데이터 시각화"
   ]
  },
  {
   "cell_type": "markdown",
   "metadata": {
    "school_cell_uuid": "4f17d8e2b9084f69899ac98390eb0419"
   },
   "source": [
    "[[school_notebook:d0b1637803754bb083b5722c9f2209d0]]"
   ]
  },
  {
   "cell_type": "markdown",
   "metadata": {
    "school_cell_uuid": "42c84b2b0d214c1498c9beb9c84c811a"
   },
   "source": [
    "[[school_notebook:6e71dbff254542d9b0a054a7c98b34ec]]"
   ]
  },
  {
   "cell_type": "markdown",
   "metadata": {
    "school_cell_uuid": "42c84b2b0d214c1498c9beb9c84c811a"
   },
   "source": [
    "[[school_notebook:5deb23973a0240beb510cc2cd3b2f43d]]"
   ]
  },
  {
   "cell_type": "markdown",
   "metadata": {
    "school_cell_uuid": "4c4315a133d7410da44ce7dc611fe3ab"
   },
   "source": [
    "[[school_notebook:4c2d5ff1caab4b21a708cc662137bc65]]"
   ]
  },
  {
   "cell_type": "markdown",
   "metadata": {
    "school_cell_uuid": "af4692f35d9e467d8f2f83e1d595db11"
   },
   "source": [
    "[[school_notebook:372443a5d90a46429c6459bba8b4342c]]"
   ]
  },
  {
   "cell_type": "markdown",
   "metadata": {},
   "source": [
    "## 5. 알고리즘과 함수형 프로그래밍"
   ]
  },
  {
   "cell_type": "markdown",
   "metadata": {},
   "source": [
    "## 6. 데이터베이스"
   ]
  },
  {
   "cell_type": "markdown",
   "metadata": {},
   "source": [
    "## 7. 웹서버와 웹크롤링"
   ]
  },
  {
   "cell_type": "markdown",
   "metadata": {},
   "source": [
    "## 8. 병렬처리"
   ]
  },
  {
   "cell_type": "markdown",
   "metadata": {},
   "source": [
    "## 9. 속도 개선과 통신"
   ]
  }
 ],
 "metadata": {
  "anaconda-cloud": {},
  "celltoolbar": "Edit Metadata",
  "kernelspec": {
   "display_name": "Python 3",
   "language": "python",
   "name": "python3"
  },
  "language_info": {
   "codemirror_mode": {
    "name": "ipython",
    "version": 3
   },
   "file_extension": ".py",
   "mimetype": "text/x-python",
   "name": "python",
   "nbconvert_exporter": "python",
   "pygments_lexer": "ipython3",
   "version": "3.7.1"
  },
  "latex_envs": {
   "LaTeX_envs_menu_present": true,
   "autoclose": false,
   "autocomplete": true,
   "bibliofile": "biblio.bib",
   "cite_by": "apalike",
   "current_citInitial": 1,
   "eqLabelWithNumbers": true,
   "eqNumInitial": 1,
   "hotkeys": {
    "equation": "Ctrl-E",
    "itemize": "Ctrl-I"
   },
   "labels_anchors": false,
   "latex_user_defs": false,
   "report_style_numbering": false,
   "user_envs_cfg": false
  },
  "toc": {
   "base_numbering": 1,
   "nav_menu": {},
   "number_sections": false,
   "sideBar": true,
   "skip_h1_title": false,
   "title_cell": "Table of Contents",
   "title_sidebar": "Contents",
   "toc_cell": false,
   "toc_position": {},
   "toc_section_display": true,
   "toc_window_display": false
  }
 },
 "nbformat": 4,
 "nbformat_minor": 2
}
