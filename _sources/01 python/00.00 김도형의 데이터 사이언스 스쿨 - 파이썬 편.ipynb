{
 "cells": [
  {
   "cell_type": "markdown",
   "metadata": {},
   "source": [
    "# 파이썬 편"
   ]
  },
  {
   "cell_type": "markdown",
   "metadata": {},
   "source": [
    "```{admonition} #### 연습 문제 1.1.3\n",
    "\n",
    "셸을 가동한 뒤 다음 명령을 수행한다.\n",
    "\n",
    "1. 현재 디렉터리의 이름을 알아본다.\n",
    "1. 현재 디렉터리의 모든 파일과 디렉터리 목록을 알아낸다.\n",
    "1. 이 디렉터리에 ``foo`` 라는 이름의 디렉터리를 만든다.\n",
    "1. ``foo``  디렉터리로 들어간다.\n",
    "1. ``foo`` 디렉터리에 ``bar`` 라는 이름의 디렉터리를 만든다.\n",
    "1. ``bar``  디렉터리로 들어간다.\n",
    "1. 다시 ``foo``  디렉터리로 이동한다.\n",
    "1. ``bar`` 디렉터리를 삭제한다.\n",
    "1. 화면을 지운다.\n",
    "1. 다시 가장 처음의  디렉터리로 이동한다.\n",
    "1. ``foo`` 디렉터리를 삭제한다.\n",
    "1. 셸을 나간다.\n",
    "```"
   ]
  },
  {
   "cell_type": "code",
   "execution_count": null,
   "metadata": {},
   "outputs": [],
   "source": []
  }
 ],
 "metadata": {
  "anaconda-cloud": {},
  "celltoolbar": "Edit Metadata",
  "kernelspec": {
   "display_name": "Python 3",
   "language": "python",
   "name": "python3"
  },
  "language_info": {
   "codemirror_mode": {
    "name": "ipython",
    "version": 3
   },
   "file_extension": ".py",
   "mimetype": "text/x-python",
   "name": "python",
   "nbconvert_exporter": "python",
   "pygments_lexer": "ipython3",
   "version": "3.8.3"
  },
  "latex_envs": {
   "LaTeX_envs_menu_present": true,
   "autoclose": false,
   "autocomplete": true,
   "bibliofile": "biblio.bib",
   "cite_by": "apalike",
   "current_citInitial": 1,
   "eqLabelWithNumbers": true,
   "eqNumInitial": 1,
   "hotkeys": {
    "equation": "Ctrl-E",
    "itemize": "Ctrl-I"
   },
   "labels_anchors": false,
   "latex_user_defs": false,
   "report_style_numbering": false,
   "user_envs_cfg": false
  },
  "toc": {
   "base_numbering": 1,
   "nav_menu": {},
   "number_sections": false,
   "sideBar": true,
   "skip_h1_title": false,
   "title_cell": "Table of Contents",
   "title_sidebar": "Contents",
   "toc_cell": false,
   "toc_position": {},
   "toc_section_display": true,
   "toc_window_display": false
  }
 },
 "nbformat": 4,
 "nbformat_minor": 4
}
