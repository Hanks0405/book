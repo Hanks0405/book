{
 "cells": [
  {
   "cell_type": "markdown",
   "metadata": {
    "school_cell_uuid": "0eb397371af848368057a1e376cbcc6b"
   },
   "source": [
    "# 파이썬의 자료형"
   ]
  },
  {
   "cell_type": "markdown",
   "metadata": {
    "school_cell_uuid": "da59b6bcce07497f99b9682f582430a2"
   },
   "source": [
    "## 자료형"
   ]
  },
  {
   "cell_type": "markdown",
   "metadata": {},
   "source": [
    "```{margin}\n",
    "자료형(data type), 타입(type)\n",
    "```"
   ]
  },
  {
   "cell_type": "markdown",
   "metadata": {
    "school_cell_uuid": "861cd0da12b14574a29fc39a81368b56"
   },
   "source": [
    "지금까지 우리는 변수에 숫자, 문자열, 리스트 등의 값을 마음대로 넣어서 사용해 왔다. 그러나 프로그램이 실행되려면 컴퓨터는 각 변수에 어떤 종류의 값이 들어가 있는지 알아야 한다. 값이 숫자인가 문자열인가 등에 따라 값을 저장하는 방식이나 계산하는 방법이 다르기 때문이다.\n",
    "이러한 값의 종류를 자료형(data type) 혹은 타입(type)이라고 한다. 예를 들어 정수인 1과 문자열인 \"1\"이 컴퓨터에 저장될 때 어느 정도의 메모리를 차지하는지 알아보면 두 값의 저장 방식이 다르다는 것을 알 수 있다. "
   ]
  },
  {
   "cell_type": "markdown",
   "metadata": {},
   "source": [
    "```{margin}\n",
    "`getsizeof`\n",
    "```"
   ]
  },
  {
   "cell_type": "markdown",
   "metadata": {},
   "source": [
    "파이썬에서 변수의 메모리 크기를 알기 위해서는 `sys` 패키지의 `getsizeof` 명령을 사용한다."
   ]
  },
  {
   "cell_type": "code",
   "execution_count": 1,
   "metadata": {
    "school_cell_uuid": "8e2ccf66119c4ada917ad17186146f87"
   },
   "outputs": [],
   "source": [
    "from sys import getsizeof"
   ]
  },
  {
   "cell_type": "code",
   "execution_count": 2,
   "metadata": {
    "school_cell_uuid": "76ba94c21f624fff917d9fa3ca7c1c76"
   },
   "outputs": [
    {
     "data": {
      "text/plain": [
       "28"
      ]
     },
     "execution_count": 2,
     "metadata": {},
     "output_type": "execute_result"
    }
   ],
   "source": [
    "a = 1\n",
    "getsizeof(a)"
   ]
  },
  {
   "cell_type": "code",
   "execution_count": 3,
   "metadata": {
    "school_cell_uuid": "dc4d786d7fa044789848065e297549db"
   },
   "outputs": [
    {
     "data": {
      "text/plain": [
       "58"
      ]
     },
     "execution_count": 3,
     "metadata": {},
     "output_type": "execute_result"
    }
   ],
   "source": [
    "b = \"1\"\n",
    "getsizeof(b)"
   ]
  },
  {
   "cell_type": "markdown",
   "metadata": {
    "school_cell_uuid": "0be12bed4e57461bb88ceebfa20e2539"
   },
   "source": [
    "## 파이썬의 자료형"
   ]
  },
  {
   "cell_type": "markdown",
   "metadata": {
    "school_cell_uuid": "faacbbf1c84b465ea0f24ef0738527f2"
   },
   "source": [
    "파이썬에서 사용할 수 있는 자료형 중 많이 사용하는 것은 다음과 같다.\n",
    "\n",
    "* `NoneType`\n",
    "* `bool`\n",
    "* `int`\n",
    "* `float`\n",
    "* `complex`\n",
    "* `str`\n",
    "* `tuple`\n",
    "* `list`\n",
    "* `dict`\n",
    "* `function`\n",
    "\n",
    "변수나 값의 자료형을 알아보려면 `type` 명령을 사용하면 된다. `None` 타입은 변수가 비어있음을 표시할 때 사용한다. "
   ]
  },
  {
   "cell_type": "code",
   "execution_count": 4,
   "metadata": {
    "school_cell_uuid": "b4600e489db941f9ad56dfb86f9ddc78"
   },
   "outputs": [
    {
     "data": {
      "text/plain": [
       "NoneType"
      ]
     },
     "execution_count": 4,
     "metadata": {},
     "output_type": "execute_result"
    }
   ],
   "source": [
    "type(None)"
   ]
  },
  {
   "cell_type": "code",
   "execution_count": 5,
   "metadata": {
    "school_cell_uuid": "22bd0031b9c9479c916a00b083ff3894"
   },
   "outputs": [
    {
     "data": {
      "text/plain": [
       "bool"
      ]
     },
     "execution_count": 5,
     "metadata": {},
     "output_type": "execute_result"
    }
   ],
   "source": [
    "type(True)"
   ]
  },
  {
   "cell_type": "code",
   "execution_count": 6,
   "metadata": {
    "school_cell_uuid": "0333d951768446b4ad5f382a7fdd1995"
   },
   "outputs": [
    {
     "data": {
      "text/plain": [
       "int"
      ]
     },
     "execution_count": 6,
     "metadata": {},
     "output_type": "execute_result"
    }
   ],
   "source": [
    "type(1)"
   ]
  },
  {
   "cell_type": "code",
   "execution_count": 7,
   "metadata": {
    "school_cell_uuid": "2abb27db1f1844fca27f24260359c2f9"
   },
   "outputs": [
    {
     "data": {
      "text/plain": [
       "float"
      ]
     },
     "execution_count": 7,
     "metadata": {},
     "output_type": "execute_result"
    }
   ],
   "source": [
    "type(3.14)"
   ]
  },
  {
   "cell_type": "markdown",
   "metadata": {
    "school_cell_uuid": "1e35824fc53b40078dcb9e30ccc8c5ff"
   },
   "source": [
    "복소수를 사용할 때는 허수부 숫자 뒤에 j문자를 붙인다."
   ]
  },
  {
   "cell_type": "code",
   "execution_count": 8,
   "metadata": {
    "school_cell_uuid": "d8526cc0e6d0448787198d23eef8f654"
   },
   "outputs": [
    {
     "data": {
      "text/plain": [
       "complex"
      ]
     },
     "execution_count": 8,
     "metadata": {},
     "output_type": "execute_result"
    }
   ],
   "source": [
    "type(2 + 3j)"
   ]
  },
  {
   "cell_type": "code",
   "execution_count": 9,
   "metadata": {
    "school_cell_uuid": "3320e7b66b3b481a8eef28253677f01f"
   },
   "outputs": [
    {
     "data": {
      "text/plain": [
       "str"
      ]
     },
     "execution_count": 9,
     "metadata": {},
     "output_type": "execute_result"
    }
   ],
   "source": [
    "type(\"abc\")"
   ]
  },
  {
   "cell_type": "code",
   "execution_count": 11,
   "metadata": {
    "school_cell_uuid": "2bfa661b0c5b4ef4a036932084856dff"
   },
   "outputs": [
    {
     "data": {
      "text/plain": [
       "tuple"
      ]
     },
     "execution_count": 11,
     "metadata": {},
     "output_type": "execute_result"
    }
   ],
   "source": [
    "type((1, 2, 3))"
   ]
  },
  {
   "cell_type": "code",
   "execution_count": 12,
   "metadata": {
    "school_cell_uuid": "2fb2c13aecee4597a63b57ce97e507a5"
   },
   "outputs": [
    {
     "data": {
      "text/plain": [
       "list"
      ]
     },
     "execution_count": 12,
     "metadata": {},
     "output_type": "execute_result"
    }
   ],
   "source": [
    "type([1, 2, 3])"
   ]
  },
  {
   "cell_type": "code",
   "execution_count": 13,
   "metadata": {
    "school_cell_uuid": "39152f06a341400496dcd7e5c1594216"
   },
   "outputs": [
    {
     "data": {
      "text/plain": [
       "dict"
      ]
     },
     "execution_count": 13,
     "metadata": {},
     "output_type": "execute_result"
    }
   ],
   "source": [
    "type({\"A\": 10, \"B\": 20, \"C\": 30})"
   ]
  },
  {
   "cell_type": "markdown",
   "metadata": {
    "school_cell_uuid": "1bd568e2a9bb487daceb494c704b4036"
   },
   "source": [
    "파이썬에서는 함수도 독자적인 자료형을 가진다. 파이썬에서 함수의 자료형 이름은 function 이다."
   ]
  },
  {
   "cell_type": "code",
   "execution_count": 14,
   "metadata": {
    "school_cell_uuid": "82b287d5884346cfbd0f909201f70d27"
   },
   "outputs": [
    {
     "data": {
      "text/plain": [
       "function"
      ]
     },
     "execution_count": 14,
     "metadata": {},
     "output_type": "execute_result"
    }
   ],
   "source": [
    "def f():\n",
    "    return 1\n",
    "\n",
    "\n",
    "type(f)"
   ]
  },
  {
   "cell_type": "markdown",
   "metadata": {
    "school_cell_uuid": "ce36d676217e47c090b65ea234ba218d"
   },
   "source": [
    "## 자료형과 클래스의 차이점"
   ]
  },
  {
   "cell_type": "markdown",
   "metadata": {},
   "source": [
    "```{margin}\n",
    "`__class__`\n",
    "```"
   ]
  },
  {
   "cell_type": "markdown",
   "metadata": {
    "school_cell_uuid": "e6670de93ee2417ca5a5a91cf2bd1041"
   },
   "source": [
    "파이썬에서 자료형과 클래스는 같은 의미라고 봐도 무방하다. 클래스를 알고 싶으면 `__class__` 속성을 살펴본다."
   ]
  },
  {
   "cell_type": "code",
   "execution_count": 15,
   "metadata": {
    "school_cell_uuid": "99e81012065e4bde8eaf29859cc05f1b"
   },
   "outputs": [],
   "source": [
    "a = 1"
   ]
  },
  {
   "cell_type": "code",
   "execution_count": 16,
   "metadata": {
    "school_cell_uuid": "41ee6cfcd7164a35931707c623384501"
   },
   "outputs": [
    {
     "data": {
      "text/plain": [
       "int"
      ]
     },
     "execution_count": 16,
     "metadata": {},
     "output_type": "execute_result"
    }
   ],
   "source": [
    "type(a)"
   ]
  },
  {
   "cell_type": "code",
   "execution_count": 17,
   "metadata": {
    "school_cell_uuid": "df2aded514f640398bbf8d82e04712c8"
   },
   "outputs": [
    {
     "data": {
      "text/plain": [
       "int"
      ]
     },
     "execution_count": 17,
     "metadata": {},
     "output_type": "execute_result"
    }
   ],
   "source": [
    "a.__class__"
   ]
  },
  {
   "cell_type": "code",
   "execution_count": 18,
   "metadata": {
    "school_cell_uuid": "3cf9177b3caa4406a955f5d90e63f982"
   },
   "outputs": [],
   "source": [
    "b = [1, 2, 3]"
   ]
  },
  {
   "cell_type": "code",
   "execution_count": 19,
   "metadata": {
    "school_cell_uuid": "20bc8cb29fb440aca9c374397f1ab2c0"
   },
   "outputs": [
    {
     "data": {
      "text/plain": [
       "list"
      ]
     },
     "execution_count": 19,
     "metadata": {},
     "output_type": "execute_result"
    }
   ],
   "source": [
    "type(b)"
   ]
  },
  {
   "cell_type": "code",
   "execution_count": 20,
   "metadata": {
    "school_cell_uuid": "02d82fb339a9460c90cbc0bffab6eed6"
   },
   "outputs": [
    {
     "data": {
      "text/plain": [
       "list"
      ]
     },
     "execution_count": 20,
     "metadata": {},
     "output_type": "execute_result"
    }
   ],
   "source": [
    "b.__class__"
   ]
  },
  {
   "cell_type": "code",
   "execution_count": 21,
   "metadata": {
    "school_cell_uuid": "1c1bbbe6e061448b89c52d0cc40dd895"
   },
   "outputs": [],
   "source": [
    "class C(object):\n",
    "    pass\n",
    "\n",
    "\n",
    "c = C()"
   ]
  },
  {
   "cell_type": "markdown",
   "metadata": {
    "school_cell_uuid": "9e1a7097e1eb40508b90788d9eaf9eec"
   },
   "source": [
    "위 코드에서 `pass` 키워드는 아무런 일도 하지 않는 들여쓰기 블럭을 만들기 위한 것이다."
   ]
  },
  {
   "cell_type": "code",
   "execution_count": 22,
   "metadata": {
    "school_cell_uuid": "f0dee644c58f46c2ac070a3b4b9420ec"
   },
   "outputs": [
    {
     "data": {
      "text/plain": [
       "__main__.C"
      ]
     },
     "execution_count": 22,
     "metadata": {},
     "output_type": "execute_result"
    }
   ],
   "source": [
    "type(c)"
   ]
  },
  {
   "cell_type": "code",
   "execution_count": 23,
   "metadata": {
    "school_cell_uuid": "aed3ec9f6ec544f38e7f137fd237b018"
   },
   "outputs": [
    {
     "data": {
      "text/plain": [
       "__main__.C"
      ]
     },
     "execution_count": 23,
     "metadata": {},
     "output_type": "execute_result"
    }
   ],
   "source": [
    "c.__class__"
   ]
  },
  {
   "cell_type": "markdown",
   "metadata": {
    "school_cell_uuid": "2f649bf4ab774468addb22ecf3574a23"
   },
   "source": [
    "클래스 이름앞의 `__main__`은 클래스가 정의된 모듈(module) 즉 파일의 이름이다. REPL 환경에서 입력하는 코드는 `__main__` 으로 가정한다."
   ]
  },
  {
   "cell_type": "markdown",
   "metadata": {},
   "source": [
    "## 불변형 자료형와 변형 자료형"
   ]
  },
  {
   "cell_type": "markdown",
   "metadata": {},
   "source": [
    "```{margin}\n",
    "불변형(immutable) 자료형\n",
    "```"
   ]
  },
  {
   "cell_type": "markdown",
   "metadata": {},
   "source": [
    "```{margin}\n",
    "변형(mutable) 자료형\n",
    "```"
   ]
  },
  {
   "cell_type": "markdown",
   "metadata": {},
   "source": [
    "파이썬의 자료형에는 불변형(immutable) 자료형과 변형(mutable) 자료형이 있다. \n",
    "\n",
    "* 정수, 실수, 문자열, 튜플은 불변형 자료형이다.\n",
    "* 리스트, 딕셔너리는 변형 자료형이다.\n",
    "\n",
    "불변형 자료형은 데이터 값을 바꿀 때 메모리에 저장된 데이터 전체를 모두 없애고 새로 만들지만 변형 자료형은 할당된 메모리를 그냥 놔두고 내용(값)만 바꾼다."
   ]
  },
  {
   "cell_type": "code",
   "execution_count": 2,
   "metadata": {
    "tags": [
     "remove_cell"
    ]
   },
   "outputs": [],
   "source": [
    "%load_ext tikzmagic"
   ]
  },
  {
   "cell_type": "code",
   "execution_count": 18,
   "metadata": {
    "tags": [
     "remove_input"
    ]
   },
   "outputs": [
    {
     "data": {
      "image/png": "[encoded data removed]"
     },
     "metadata": {},
     "output_type": "display_data"
    }
   ],
   "source": [
    "%%tikz -p kotex,pgfplots -l arrows.meta,calc -s 2000,1200 -f png\n",
    "\n",
    "\\coordinate (leftbottom) at (-2,-0.5);\n",
    "\\coordinate (righttop) at (4,1.5);\n",
    "\\fill[white,use as bounding box] (leftbottom) rectangle (righttop);\n",
    "\\draw[help lines, white] (leftbottom) grid (righttop);\n",
    "\n",
    "\\node at (0, 1) {이름공간};\n",
    "\\node at (3, 1) {메모리};\n",
    "\\node[draw] at (0,0) (x) {x};\n",
    "\\node[draw] at (3, 0) (1) {1};\n",
    "\\draw[->] (x) -- (1);\n",
    " "
   ]
  },
  {
   "cell_type": "code",
   "execution_count": null,
   "metadata": {},
   "outputs": [],
   "source": []
  }
 ],
 "metadata": {
  "kernelspec": {
   "display_name": "Python 3",
   "language": "python",
   "name": "python3"
  },
  "language_info": {
   "codemirror_mode": {
    "name": "ipython",
    "version": 3
   },
   "file_extension": ".py",
   "mimetype": "text/x-python",
   "name": "python",
   "nbconvert_exporter": "python",
   "pygments_lexer": "ipython3",
   "version": "3.8.3"
  }
 },
 "nbformat": 4,
 "nbformat_minor": 4
}
