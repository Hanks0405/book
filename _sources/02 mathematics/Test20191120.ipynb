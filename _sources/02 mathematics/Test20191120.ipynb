{
 "cells": [
  {
   "cell_type": "markdown",
   "metadata": {},
   "source": [
    "# 데이터사이언스스쿨 수학평가 1"
   ]
  },
  {
   "cell_type": "markdown",
   "metadata": {},
   "source": [
    "## 문제 1\n",
    "\n",
    "$N$차원 벡터 $x$의 평균을 행렬 표기법으로 나타내라."
   ]
  },
  {
   "cell_type": "markdown",
   "metadata": {},
   "source": [
    "### 답:\n",
    "\n",
    "$$ \\dfrac{1}{N}1_N^T x $$"
   ]
  },
  {
   "cell_type": "markdown",
   "metadata": {},
   "source": [
    "## 문제 2\n",
    "\n",
    "다음 중 양의 준정부호(positive semi-definite) 행렬을 찾고 그 이차형식의 값이 0이 되는 벡터의 예를 찾아라.\n",
    "\n",
    "$$\n",
    "A = \\begin{bmatrix} 2 & -1 \\\\ -1 & 2 \\end{bmatrix} \\;\\;\\;\n",
    "B = \\begin{bmatrix} 1 & 1 \\\\ 1 & -1 \\end{bmatrix}\n",
    "C = \\begin{bmatrix} 1 & -2 \\\\ -2 & 4 \\end{bmatrix} \\;\\;\\;\n",
    "$$\n"
   ]
  },
  {
   "cell_type": "markdown",
   "metadata": {},
   "source": [
    "### 답:\n",
    "\n",
    "영벡터가 아닌 벡터 $x$에 대해 \n",
    "\n",
    "행렬 $A$의 이차형식은\n",
    "\n",
    "$$\n",
    "\\begin{align} \n",
    "x^{\\mathrm{T}}A x \n",
    "&=  \\begin{bmatrix} (2x_1-x_2)&(-x_1+2x_2) \\end{bmatrix} \\begin{bmatrix} x_1\\\\x_2\\end{bmatrix} \\\\\n",
    "&= 2{x_1}^2 - x_1x_2 - x_1x_2 + 2{x_2}^2 \\\\\n",
    "&= x_1^2 + (x_1 - x_2)^{2} + x_2^2 > 0\n",
    "\\end{align}\n",
    "$$\n",
    "\n",
    "따라서 양의 정부호(positive definite).\n",
    "\n",
    "행렬 $B$의 이차형식은\n",
    "\n",
    "$$\n",
    "\\begin{align} \n",
    "x^{\\mathrm{T}}B x \n",
    "&=  \\begin{bmatrix} (x_1+x_2)&(x_1-x_2) \\end{bmatrix} \\begin{bmatrix} x_1\\\\x_2\\end{bmatrix} \\\\\n",
    "&= {x_1}^2 + 2x_1x_2 - {x_2}^2 \n",
    "\\end{align}\n",
    "$$\n",
    "\n",
    "양의 정부호(positive definite)도 아니고 양의 준정부호(positive semidefinite)도 아니다.\n",
    "\n",
    "행렬 $C$의 이차형식은\n",
    "\n",
    "$$\n",
    "\\begin{align} \n",
    "x^{\\mathrm{T}}C x \n",
    "&=  \\begin{bmatrix} (x_1-2x_2)&(-2x_1+4x_2) \\end{bmatrix} \\begin{bmatrix} x_1\\\\x_2\\end{bmatrix} \\\\\n",
    "&= {x_1}^2 - 2x_1x_2 - 2x_1x_2 + 4{x_2}^2 \\\\\n",
    "&= (x_1 - 2x_2)^{2} \\geq 0\n",
    "\\end{align}\n",
    "$$\n",
    "\n",
    "따라서 양의 준정부호(positive semidefinite)\n",
    "\n",
    "값이 0이 되는 벡터의 예는 \n",
    "\n",
    "$$\n",
    " \\begin{bmatrix} x_1\\\\x_2\\end{bmatrix}= \\begin{bmatrix} 2\\\\1\\end{bmatrix}\n",
    "$$"
   ]
  },
  {
   "cell_type": "markdown",
   "metadata": {},
   "source": [
    "## 문제 3\n",
    "\n",
    "다음 행렬 $A$의 행렬식을 구하라.\n",
    "\n",
    "\n",
    "$$ \n",
    "A =\n",
    "\\begin{bmatrix}\n",
    "1 & 10 & 20 & 30 \\\\\n",
    "0 & 2 & 0 & 0 \\\\\n",
    "0 & 40 & 3 & 50 \\\\\n",
    "0 & 60 & 0 & 1 \\\\\n",
    "\\end{bmatrix}\n",
    "$$"
   ]
  },
  {
   "cell_type": "markdown",
   "metadata": {},
   "source": [
    "### 답:\n",
    "\n",
    "$$ \n",
    "\\det \n",
    "\\begin{bmatrix}\n",
    "1 & 10 & 20 & 30 \\\\\n",
    "0 & 2 & 0 & 0 \\\\\n",
    "0 & 40 & 3 & 50 \\\\\n",
    "0 & 60 & 0 & 1 \\\\\n",
    "\\end{bmatrix}\n",
    "=\n",
    "1 \\cdot \n",
    "\\det \n",
    "\\begin{bmatrix}\n",
    "2 & 0 & 0 \\\\\n",
    "40 & 3 & 50 \\\\\n",
    "60 & 0 & 1 \\\\\n",
    "\\end{bmatrix}\n",
    "=\n",
    "1 \\cdot 2 \\cdot \n",
    "\\det \n",
    "\\begin{bmatrix}\n",
    "3 & 50 \\\\\n",
    "0 & 1 \\\\\n",
    "\\end{bmatrix}\n",
    "=\n",
    "1 \\cdot 2 \\cdot 3  \n",
    "= 6\n",
    "$$"
   ]
  },
  {
   "cell_type": "code",
   "execution_count": 1,
   "metadata": {},
   "outputs": [
    {
     "data": {
      "text/plain": [
       "6.0"
      ]
     },
     "execution_count": 1,
     "metadata": {},
     "output_type": "execute_result"
    }
   ],
   "source": [
    "np.linalg.det(np.array([\n",
    "    [1, 10, 20, 30],\n",
    "    [0,  2,  0,  0],\n",
    "    [0, 40,  3, 50],\n",
    "    [0, 60,  0,  1],\n",
    "]))"
   ]
  },
  {
   "cell_type": "markdown",
   "metadata": {},
   "source": [
    "## 문제 4\n",
    "\n",
    "다음 행렬에서 마이너 $M_{2,3}$와 코팩터 $C_{2,3}$의 값은?\n",
    "\n",
    "$$ \n",
    "\\begin{bmatrix} \n",
    "1 & 4 & 7 \\\\\n",
    "3 & 0 & 5 \\\\\n",
    "-1 & 9 & 11 \\\\\n",
    "\\end{bmatrix} \n",
    "$$"
   ]
  },
  {
   "cell_type": "markdown",
   "metadata": {
    "collapsed": true
   },
   "source": [
    "### 답:\n",
    "\n",
    "$$M_{2,3} = \\text{det}\n",
    "\\begin{bmatrix} \n",
    "1 & 4 & \\cdot \\\\\n",
    "\\cdot & \\cdot & \\cdot \\\\\n",
    "-1 & 9 & \\cdot \\\\ \n",
    "\\end{bmatrix} =\\text{det}\n",
    "\\begin{bmatrix} \n",
    "1 & 4  \\\\\n",
    "-1 & 9  \\\\ \n",
    "\\end{bmatrix}\n",
    "=  1\\cdot 9 - (-1)\\cdot 4 = 13 $$\n",
    "\n",
    "$$C_{2,3} = (-1)^{(2+3)}M_{2,3} = -13 $$"
   ]
  },
  {
   "cell_type": "markdown",
   "metadata": {},
   "source": [
    "## 문제 5\n",
    "\n",
    "다음 최소 자승 문제의 해 $x = A^{+}b$ 가 되는 의사 역행렬 $A^+$은? ($A$가 풀랭크라고 가정)\n",
    "\n",
    "$$ Ax = b \\;,\\;\\;\\; A \\in \\mathbb{R}^{N\\times M} \\;\\; (N > M)$$"
   ]
  },
  {
   "cell_type": "markdown",
   "metadata": {},
   "source": [
    "### 답:\n",
    "\n",
    "$$ A^+ = ((A^TA)^{-1}A^T) $$"
   ]
  },
  {
   "cell_type": "markdown",
   "metadata": {},
   "source": [
    "## 문제 6\n",
    "\n",
    "word2vec으로 벡터화된 단어가 다음과 같다. \"여자\"라는 단어와 가까운 위치를 이 단어들의 합과 차로 표현하라.\n",
    "\n",
    "단어: 남배우, 여배우, 남자"
   ]
  },
  {
   "cell_type": "markdown",
   "metadata": {},
   "source": [
    "### 답:\n",
    "\n",
    "여자 = 남자 + (여배우 - 남배우)"
   ]
  },
  {
   "cell_type": "markdown",
   "metadata": {},
   "source": [
    "## 문제 7\n",
    "\n",
    "벡터 $w^T = [3, 4]$가 가리키는 점을 지나면서 이 벡터에 수직인 직선의 방정식을 구하고 이 직선과  점 (4,2) 사이의 거리를 구하라."
   ]
  },
  {
   "cell_type": "markdown",
   "metadata": {},
   "source": [
    "### 답:\n",
    "\n",
    "\n",
    "$$ w^Tx - \\Vert w \\Vert^2 = 0 $$\n",
    "\n",
    "$$ 3x_1 + 4 x_2 - 25 = 0 $$\n",
    "\n",
    "$$  x'= [4, 2] $$\n",
    "\n",
    "$$ \\dfrac{| w^Tx'- \\Vert w \\Vert^2 |}{\\Vert w \\Vert} = \\dfrac{25 - (12 + 8)}{5} = \\dfrac{5}{5} = 1$$"
   ]
  },
  {
   "cell_type": "markdown",
   "metadata": {},
   "source": [
    "## 문제 8\n",
    "\n",
    "다음 두 벡터를 기저 벡터로 사용하면 점 (5,5) 이 어떤 좌표가 되는지 구하라.\n",
    "\n",
    "$$  g_1 = \n",
    "\\begin{bmatrix}\n",
    "\\dfrac{4}{5} \\\\\n",
    "\\dfrac{3}{5} \\\\\n",
    "\\end{bmatrix}\n",
    "\\;\\;\\;\\;\n",
    "g_2 = \n",
    "\\begin{bmatrix}\n",
    "-\\dfrac{3}{5} \\\\\n",
    "\\dfrac{4}{5} \\\\\n",
    "\\end{bmatrix}\n",
    "$$\n"
   ]
  },
  {
   "cell_type": "markdown",
   "metadata": {},
   "source": [
    "### 답:\n",
    "\n",
    "변환 행렬 \n",
    "$$A = \n",
    "\\begin{bmatrix}\n",
    "\\dfrac{4}{5} &\n",
    "-\\dfrac{3}{5} \\\\\n",
    "\\dfrac{3}{5} &\n",
    "\\dfrac{4}{5} \\\\\n",
    "\\end{bmatrix}\n",
    "$$\n",
    "\n",
    "역행렬\n",
    "$$\n",
    "A^{-1} = \n",
    "\\begin{bmatrix}\n",
    "\\dfrac{4}{5} &\n",
    "\\dfrac{3}{5} \\\\\n",
    "-\\dfrac{3}{5} &\n",
    "\\dfrac{4}{5} \\\\\n",
    "\\end{bmatrix}\n",
    "$$\n",
    "\n",
    "새 좌표\n",
    "$$ \\begin{bmatrix}\n",
    "\\dfrac{4}{5} &\n",
    "\\dfrac{3}{5} \\\\\n",
    "-\\dfrac{3}{5} &\n",
    "\\dfrac{4}{5} \\\\\n",
    "\\end{bmatrix}\n",
    "\\begin{bmatrix} 5 \\\\ 5\\end{bmatrix} \n",
    "=\n",
    "\\begin{bmatrix} 7 \\\\ 1\\end{bmatrix} \n",
    "$$"
   ]
  },
  {
   "cell_type": "markdown",
   "metadata": {},
   "source": [
    "## 문제 9\n",
    "\n",
    "다음 행렬의 고윳값을 구하라.\n",
    "\n",
    "$$\n",
    "A =\n",
    "\\begin{bmatrix}\n",
    "2 & 3 \\\\\n",
    "2 & 1\n",
    "\\end{bmatrix}\n",
    "$$"
   ]
  },
  {
   "cell_type": "markdown",
   "metadata": {},
   "source": [
    "### 답:\n",
    "\n",
    "$$ \n",
    "\\begin{aligned}\n",
    "\\det \\left( A - \\lambda I \\right) \n",
    "&=\n",
    "\\det \n",
    "\\left(\n",
    "\\begin{bmatrix}\n",
    "2 & 3 \\\\\n",
    "2 & 1\n",
    "\\end{bmatrix}\n",
    "-\n",
    "\\begin{bmatrix}\n",
    "\\lambda & 0 \\\\\n",
    "0 & \\lambda\n",
    "\\end{bmatrix}\n",
    "\\right) \n",
    "\\\\\n",
    "&=\n",
    "\\det \n",
    "\\begin{bmatrix}\n",
    "2 - \\lambda & 3 \\\\\n",
    "2 & 1 -\\lambda\n",
    "\\end{bmatrix}\n",
    "\\\\\n",
    "&= (2 - \\lambda)(1 -\\lambda) -6 \\\\\n",
    "&= \\lambda^2 - 3\\lambda -4 = 0\n",
    "\\end{aligned}\n",
    "$$\n",
    "\n",
    "인수분해를 하여 이차방정식인 특성방정식을 풀면\n",
    "\n",
    "$$\n",
    "\\lambda^2 - 3\\lambda -4= (\\lambda -4)(\\lambda +1) = 0\n",
    "$$\n",
    "\n",
    "에서 고윳값은 4와 -1"
   ]
  },
  {
   "cell_type": "markdown",
   "metadata": {},
   "source": [
    "## 문제 10\n",
    "\n",
    "다음 문장 중 옳지 않은 것은?\n",
    "\n",
    "\n",
    "(1) 대칭행렬은 대각화 가능하다.\n",
    "\n",
    "(2) 대칭행렬은 역행렬이 존재한다.\n",
    "\n",
    "(3) 공분산 행렬의 고윳벡터는 서로 수직이다.\n",
    "\n",
    "(4) 고윳값의 곱은 행렬식과 같다."
   ]
  },
  {
   "cell_type": "markdown",
   "metadata": {},
   "source": [
    "### 답:\n",
    "\n",
    "(2) 대칭행렬의 역행렬은 존재하지 않을 수 있다.\n"
   ]
  },
  {
   "cell_type": "markdown",
   "metadata": {},
   "source": [
    "## 문제 11\n",
    "\n",
    "3개의 입/출력을 가진 소프트맥스 함수에 입력 (0.2, 0.1, -0.1)을 넣었을 때의 출력이 될 수 있는 것은 다음 중 어느것인가?\n",
    "\n",
    "1. (0.56002619,  0.68401753,  0.75595628)\n",
    "1. (0.34200877,  0.28001309,  0.37797814)\n",
    "1. (0.98753832,  0.36329504,  0.04916664)\n",
    "1. (1, 0, 0)\n"
   ]
  },
  {
   "cell_type": "markdown",
   "metadata": {},
   "source": [
    "### 답:  4번\n",
    "\n",
    "1, 2번은 순서가 달라졌다. 3번은 합이 1이 아니다. 4번은 유효숫자를 감안하였을 때 가능하다"
   ]
  },
  {
   "cell_type": "code",
   "execution_count": 1,
   "metadata": {},
   "outputs": [
    {
     "data": {
      "text/plain": [
       "array([1.00000000e+000, 3.72007598e-044, 5.14820022e-131])"
      ]
     },
     "execution_count": 1,
     "metadata": {},
     "output_type": "execute_result"
    }
   ],
   "source": [
    "def softmax(x, w): \n",
    "    e = np.exp(w * x)\n",
    "    return np.exp(w * x) / e.sum()\n",
    "\n",
    "x = [0.2, 0.1, -0.1]\n",
    "y = softmax(x, 1000 * np.ones(3))\n",
    "y"
   ]
  },
  {
   "cell_type": "markdown",
   "metadata": {},
   "source": [
    "## 문제 12\n",
    "\n",
    "다음 함수를 미분하라.\n",
    "\n",
    "$$ f(x) = \\log (x^2 + 1) $$"
   ]
  },
  {
   "cell_type": "markdown",
   "metadata": {},
   "source": [
    "### 답:\n",
    "\n",
    "$$ \\dfrac{d}{dx} \\log f(x) = \\dfrac{f'(x)}{f(x)} = \\dfrac{2x}{x^2 + 1} $$"
   ]
  },
  {
   "cell_type": "markdown",
   "metadata": {},
   "source": [
    "## 문제 13\n",
    "\n",
    "다음 함수를 $x_1$과 $x_2$로 각각 편미분하라.\n",
    "\n",
    "$$ f(x_1, x_2) = \\exp \\dfrac{(x_1 - 2)^2}{4} \\cdot \\exp \\dfrac{(x_2 - 2)^2}{4} $$"
   ]
  },
  {
   "cell_type": "markdown",
   "metadata": {},
   "source": [
    "### 답:\n",
    "\n",
    "$$\n",
    "\\begin{eqnarray}\n",
    "\\dfrac{\\partial f}{\\partial x_1} \n",
    "&=& \\dfrac{\\partial}{\\partial x_1} \\left( \\exp \\dfrac{(x_1 - 2)^2}{4} \\cdot \\exp \\dfrac{(x_2 - 2)^2}{4} \\right) \\\\\n",
    "&=& \\dfrac{\\partial}{\\partial x_1} \\left( \\exp \\dfrac{(x_1 - 2)^2}{4} \\right) \\cdot \\exp \\dfrac{(x_2 - 2)^2}{4} \\\\\n",
    "&=& \\frac{1}{2}(x_1 - 2) \\exp \\dfrac{(x_1 - 2)^2}{4} \\cdot \\exp \\dfrac{(x_2 - 2)^2}{4} \\\\\n",
    "\\dfrac{\\partial f}{\\partial x_2} \n",
    "&=& \\frac{1}{2}(x_2 - 2) \\exp \\dfrac{(x_1 - 2)^2}{4} \\cdot \\exp \\dfrac{(x_2 - 2)^2}{4} \\\\\n",
    "\\end{eqnarray} \n",
    "$$"
   ]
  },
  {
   "cell_type": "markdown",
   "metadata": {},
   "source": [
    "## 문제 14\n",
    "\n",
    "다음 부정적분의 값을 구하라.\n",
    "\n",
    "$$ \\int \\left( 2 + 6x + 4\\exp(x) + \\dfrac{5}{x} \\right) dx $$"
   ]
  },
  {
   "cell_type": "markdown",
   "metadata": {},
   "source": [
    "### 답:\n",
    "\n",
    "$$ 2x + 3x^2 + 4\\exp(x) + 5\\log{x} $$"
   ]
  },
  {
   "cell_type": "markdown",
   "metadata": {},
   "source": [
    "## 문제 15\n",
    "\n",
    "다음 정적분의 값을 구하라.\n",
    "\n",
    "$$ \\int_0^3 x^2 dx $$"
   ]
  },
  {
   "cell_type": "markdown",
   "metadata": {},
   "source": [
    "### 답:\n",
    "\n",
    "부정적분을 하면 \n",
    "\n",
    "$$ F(x) = \\int x^2 dx = \\dfrac{1}{3} x^3 $$\n",
    "\n",
    "$$ \\int_0^3 x^2 = F(3) - F(0) = 9 $$ "
   ]
  },
  {
   "cell_type": "markdown",
   "metadata": {},
   "source": [
    "## 문제 16\n",
    "\n",
    "다음 행렬식에 대한 미분을 구한다.\n",
    "\n",
    "1. \n",
    "$$ \\dfrac{\\partial}{\\partial x}\\left( w^Tx \\right) $$\n",
    "1. \n",
    "$$ \\dfrac{\\partial}{\\partial x}\\left( x^TAx \\right) $$\n",
    "1. \n",
    "$$ \\dfrac{\\partial}{\\partial X}\\left( AX \\right) $$\n",
    "1. \n",
    "$$ \\dfrac{\\partial}{\\partial A}\\left( tr(BA) \\right) $$\n",
    "1. \n",
    "$$ \\dfrac{\\partial}{\\partial A}\\left( \\log|A| \\right) $$"
   ]
  },
  {
   "cell_type": "markdown",
   "metadata": {},
   "source": [
    "### 답:\n",
    "\n",
    "1. \n",
    "$$ \\dfrac{\\partial}{\\partial x}\\left( w^Tx \\right) = w $$\n",
    "1. \n",
    "$$ \\dfrac{\\partial}{\\partial x}\\left( x^TAx \\right) = (A + A^T)x$$\n",
    "1. \n",
    "$$ \\dfrac{\\partial}{\\partial X}\\left( AX \\right) = A^T$$\n",
    "1. \n",
    "$$ \\dfrac{\\partial}{\\partial A}\\left( tr(BA) \\right) = B^T $$\n",
    "1. \n",
    "$$ \\dfrac{\\partial}{\\partial A}\\left( \\log|A| \\right) = (A^{-1})^T$$"
   ]
  },
  {
   "cell_type": "markdown",
   "metadata": {},
   "source": [
    "## 문제 17\n",
    "\n",
    "다음 수식의 값을 구하라.\n",
    "\n",
    "$$ \\arg\\min_x \\log(x^2 - 2x + 10) $$"
   ]
  },
  {
   "cell_type": "markdown",
   "metadata": {},
   "source": [
    "### 답: 1\n",
    "\n",
    "\n",
    "로그 함수의 최소값 위치는 로그를 취하기 전의 최소값 위치와 같다.\n",
    "\n",
    "$$ x^2 - 2x + 10 = x^2 - 2x + 1 + 9 = (x - 1)^2 + 9 $$\n",
    "\n"
   ]
  },
  {
   "cell_type": "markdown",
   "metadata": {},
   "source": [
    "## 문제 18 (15점)\n",
    "\n",
    "다음은 부등식 제한 조건이 있는 최적화 문제이다. 이 문제를 라그랑주 승수법과 KKT 조건을 사용하여 풀어라. 라그랑주 승수는 $\\lambda$로 표기한다.\n",
    "\n",
    "\n",
    "$$ \\text{arg} \\min_x f(x) = \\text{arg} \\min_x \\; (x_1-2)^2 + x_2^2 $$\n",
    "\n",
    "$$ g_1(x) = x_1 + x_2 - 1 \\leq 0 $$\n",
    "\n",
    "$$ g_2(x) = x_1 - x_2 - 1 \\leq 0 $$\n",
    "\n",
    "\n",
    "1. 제한조건이 없는 최적화 문제의 목적함수 $h(x, \\lambda)$ 는?\n",
    "2. 이 목적함수를 $x_1$, $x_2$, $\\lambda_1$, $\\lambda_2$로 편미분한 도함수는?\n",
    "3. 위 식을 이용하여 이 문제의 해를 구하기 위한 KKT 조건을 서술하라.\n",
    "4. 이 문제의 해는 두 개의 부등식 제한조건에 모두 영향을 받는다. (부등식 제한조건이 있는가 없는가에 따라 해가 달라진다.)\n",
    "   이 정보를 힌트로 해를 구하라.\n",
    "5. $\\lambda_1$, $\\lambda_2$를 구하라."
   ]
  },
  {
   "cell_type": "markdown",
   "metadata": {},
   "source": [
    "### 답:\n",
    "\n",
    "(1)\n",
    "\n",
    "$$ \n",
    "h(x, \\lambda) = f(x) + \\lambda_1 g_1(x) + \\lambda_2 g_2(x) \n",
    "= (x_1-2)^2 + x_2^2 + \\lambda_1 (x_1 + x_2 - 1) + \\lambda_2 (x_1 - x_2 - 1) $$\n",
    "\n",
    "\n",
    "(2)\n",
    "\n",
    "$$ \\dfrac{\\partial h}{\\partial x_1} = 2 (x_1-2) + \\lambda_1 + \\lambda_2 $$\n",
    "\n",
    "$$ \\dfrac{\\partial h}{\\partial x_2} = 2 x_2 + \\lambda_1 - \\lambda_2 $$\n",
    "\n",
    "$$ \\dfrac{\\partial h}{\\partial \\lambda_1} = x_1 + x_2 - 1 $$\n",
    "\n",
    "$$ \\dfrac{\\partial h}{\\partial \\lambda_2} = x_1 - x_2 - 1 $$\n",
    "\n",
    "\n",
    "(3)\n",
    "\n",
    "$$ 2 (x_1-2) + \\lambda_1 + \\lambda_2 = 0 \\tag{1} $$\n",
    "\n",
    "$$ 2 x_2 + \\lambda_1 - \\lambda_2 = 0 \\tag{2} $$\n",
    "\n",
    "$$ \\lambda_1 \\left( x_1 + x_2 - 1 \\right) = 0  \\tag{3} $$\n",
    "\n",
    "$$ \\lambda_2 \\left( x_1 - x_2 - 1 \\right) = 0  \\tag{4} $$\n",
    "\n",
    "$$ \\lambda_1 \\geq 0 $$\n",
    "\n",
    "$$ \\lambda_2 \\geq 0 $$\n",
    "\n",
    "(4)\n",
    "\n",
    "두 부등식 제한조건이 모두 영향을 미치면 라그랑주 승수는 0이 아니다. \n",
    "\n",
    "따라서 (3), (4)번 식에서 \n",
    "\n",
    "$$ x_1 = 1, \\;\\; x_2 = 0 $$\n",
    "\n",
    "(5)\n",
    "\n",
    "이를 (1), (2)번식에 대입하면 \n",
    "\n",
    "$$ \\lambda_1 = \\lambda_2 = 1 $$"
   ]
  }
 ],
 "metadata": {
  "kernelspec": {
   "display_name": "Python 3",
   "language": "python",
   "name": "python3"
  },
  "language_info": {
   "codemirror_mode": {
    "name": "ipython",
    "version": 3
   },
   "file_extension": ".py",
   "mimetype": "text/x-python",
   "name": "python",
   "nbconvert_exporter": "python",
   "pygments_lexer": "ipython3",
   "version": "3.7.1"
  }
 },
 "nbformat": 4,
 "nbformat_minor": 2
}
