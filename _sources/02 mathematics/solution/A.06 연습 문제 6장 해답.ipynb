{
 "cells": [
  {
   "cell_type": "markdown",
   "metadata": {},
   "source": [
    "# 연습 문제 6장 해답"
   ]
  },
  {
   "cell_type": "markdown",
   "metadata": {
    "school_cell_uuid": "594344ad64d440b9a2c4b51aabdc890f"
   },
   "source": [
    "#### 연습 문제 6.1.1의 답 "
   ]
  },
  {
   "cell_type": "markdown",
   "metadata": {},
   "source": [
    "(1)\n",
    "\n",
    "답 : 16개 \n",
    "$$\n",
    "\\begin{align}\n",
    "\\begin{aligned}\n",
    "A_1 &= \\{ \\emptyset\\} \\\\\n",
    "A_2 &= \\{HH\\}\\\\\n",
    "A_3 &= \\{HT\\}\\\\\n",
    "A_4 &= \\{TH\\}\\\\\n",
    "A_5 &= \\{TT\\}\\\\\n",
    "A_6 &= \\{HH, HT\\}\\\\\n",
    "A_7 &= \\{HH, TH\\}\\\\\n",
    "A_8 &= \\{HH, TT\\}\\\\\n",
    "A_9 &= \\{HT, TH\\}\\\\\n",
    "A_{10} &= \\{HT, TT\\}\\\\\n",
    "A_{11} &= \\{TH, TT\\}\\\\\n",
    "A_{12} &= \\{HH, HT, TH\\}\\\\\n",
    "A_{13} &= \\{HH, HT, TT\\}\\\\\n",
    "A_{14} &= \\{HH, TH, TT\\}\\\\\n",
    "A_{15} &= \\{HT, TH, TT\\}\\\\\n",
    "A_{16} &= \\{HH, HT, TH, TT\\} \\\\\n",
    "\\end{aligned}\n",
    "\\tag{A.6.1}\n",
    "\\end{align}\n",
    "$$\n",
    "\n"
   ]
  },
  {
   "cell_type": "markdown",
   "metadata": {},
   "source": [
    "(2)"
   ]
  },
  {
   "cell_type": "code",
   "execution_count": 1,
   "metadata": {},
   "outputs": [
    {
     "data": {
      "text/plain": [
       "{frozenset(),\n",
       " frozenset({'HT'}),\n",
       " frozenset({'TT'}),\n",
       " frozenset({'HT', 'TT'}),\n",
       " frozenset({'HH', 'HT'}),\n",
       " frozenset({'HH', 'TT'}),\n",
       " frozenset({'TH'}),\n",
       " frozenset({'TH', 'TT'}),\n",
       " frozenset({'HH', 'TH', 'TT'}),\n",
       " frozenset({'HT', 'TH', 'TT'}),\n",
       " frozenset({'HH'}),\n",
       " frozenset({'HH', 'TH'}),\n",
       " frozenset({'HH', 'HT', 'TT'}),\n",
       " frozenset({'HT', 'TH'}),\n",
       " frozenset({'HH', 'HT', 'TH'}),\n",
       " frozenset({'HH', 'HT', 'TH', 'TT'})}"
      ]
     },
     "execution_count": 1,
     "metadata": {},
     "output_type": "execute_result"
    }
   ],
   "source": [
    "from itertools import chain, combinations\n",
    "\n",
    "omega = {\"HH\", \"HT\", \"TH\", \"TT\"}\n",
    "set([frozenset(s) \n",
    "     for s in chain.from_iterable(combinations(omega, n) \n",
    "                                  for n in range(5))])"
   ]
  },
  {
   "cell_type": "markdown",
   "metadata": {},
   "source": [
    "#### 연습 문제 6.1.2의 답 "
   ]
  },
  {
   "cell_type": "code",
   "execution_count": 2,
   "metadata": {},
   "outputs": [],
   "source": [
    "A = set([1, 3, 5])\n",
    "B = set([1, 2, 3])\n",
    "C = set([2, 4, 6])"
   ]
  },
  {
   "cell_type": "code",
   "execution_count": 3,
   "metadata": {},
   "outputs": [
    {
     "data": {
      "text/plain": [
       "True"
      ]
     },
     "execution_count": 3,
     "metadata": {},
     "output_type": "execute_result"
    }
   ],
   "source": [
    "A | (B & C) == (A | B) & (A | C)"
   ]
  },
  {
   "cell_type": "code",
   "execution_count": 4,
   "metadata": {},
   "outputs": [
    {
     "data": {
      "text/plain": [
       "True"
      ]
     },
     "execution_count": 4,
     "metadata": {},
     "output_type": "execute_result"
    }
   ],
   "source": [
    "A & (B | C) == (A & B) | (A & C)"
   ]
  },
  {
   "cell_type": "markdown",
   "metadata": {
    "school_cell_uuid": "594344ad64d440b9a2c4b51aabdc890f"
   },
   "source": [
    "#### 연습 문제 6.2.1의 답"
   ]
  },
  {
   "cell_type": "markdown",
   "metadata": {},
   "source": [
    "(1)\n",
    "\n",
    "$$\n",
    "\\begin{align}\n",
    "\\Omega_3 = \\{HH, HT, TH, TT \\}\n",
    "\\tag{A.6.2}\n",
    "\\end{align}\n",
    "$$\n",
    "\n",
    "(2)\n",
    "\n",
    "$$\n",
    "\\begin{align}\n",
    "\\Omega_4 = \\{ \\text{True(그렇다)}, \\text{False(아니다)} \\}\n",
    "\\tag{A.6.3}\n",
    "\\end{align}\n",
    "$$"
   ]
  },
  {
   "cell_type": "markdown",
   "metadata": {},
   "source": [
    "#### 연습 문제 6.2.2의 답"
   ]
  },
  {
   "cell_type": "markdown",
   "metadata": {},
   "source": [
    "(1) 표본의 개수는 무한대다.\n",
    "\n",
    "$$\n",
    "\\begin{align}\n",
    "\\Omega_7 = \\{0 \\leq\\theta < 360\\}\n",
    "\\tag{A.6.4}\n",
    "\\end{align}\n",
    "$$\n",
    "<br>\n",
    "\n",
    "(2) 가장 일반적으로 정의하면 $\\Omega_8$은 모든 실수의 집합이다. 표본의 개수는 무한대다.\n",
    "$$\n",
    "\\begin{align}\n",
    "\\Omega_8 = \\mathbf{R}\n",
    "\\tag{A.6.5}\n",
    "\\end{align}\n",
    "$$"
   ]
  },
  {
   "cell_type": "markdown",
   "metadata": {},
   "source": [
    "#### 연습 문제 6.2.3의 답"
   ]
  },
  {
   "cell_type": "markdown",
   "metadata": {},
   "source": [
    "다음은 해답의 예다\n",
    "\n",
    "(1) 주사위를 던져서 1이 나올 것인가? 표본 공간 = {1, 2, 3, 4, 5, 6}\n",
    "\n",
    "(2) 영화감상 후 평점이 1~10점 중 몇점이 나올 것인가? 표본 공간 = {1, 2, …, 10}\n",
    "\n",
    "(3) 공을 수평으로 던졌을 때 몇 미터를 날아갈 것인가? 표본 공간 = 실수 전체의 집합 \n",
    "\n",
    "(4) 공을 지면으로 던졌을 때 몇 번 지면에서 튕길 것인가? 표본 공간 = 정수 전체의 집합 \n"
   ]
  },
  {
   "cell_type": "markdown",
   "metadata": {},
   "source": [
    "#### 연습 문제 6.2.4의 답 "
   ]
  },
  {
   "cell_type": "code",
   "execution_count": 5,
   "metadata": {},
   "outputs": [],
   "source": [
    "from itertools import chain, combinations\n",
    "\n",
    "def get_set_of_subsets(omega):\n",
    "    return set([frozenset(s) for s in \n",
    "                chain.from_iterable(\n",
    "                    combinations(omega, r) \n",
    "                    for r in range(len(omega) + 1))])"
   ]
  },
  {
   "cell_type": "markdown",
   "metadata": {},
   "source": [
    "(1)\n",
    "\n",
    "$$\n",
    "\\begin{align}\n",
    "\\begin{aligned}\n",
    "\\Omega_2 &= \\{ \\diamondsuit, \\heartsuit, \\spadesuit, \\clubsuit \\} \\\\\n",
    "A_1 &= \\{\\emptyset\\}\\\\\n",
    "A_2 &= \\{\\diamondsuit\\}\\\\\n",
    "A_3 &= \\{\\heartsuit\\}\\\\\n",
    "A_4 &= \\{\\spadesuit\\}\\\\\n",
    "A_5 &= \\{\\clubsuit\\}\\\\\n",
    "A_6 &= \\{\\diamondsuit, \\heartsuit\\}\\\\\n",
    "A_7 &= \\{\\diamondsuit, \\spadesuit\\}\\\\\n",
    "A_8 &= \\{\\diamondsuit, \\clubsuit\\}\\\\\n",
    "A_9 &= \\{\\heartsuit, \\spadesuit\\}\\\\\n",
    "A_{10} &= \\{\\heartsuit, \\clubsuit\\}\\\\\n",
    "A_{11} &= \\{\\spadesuit, \\clubsuit\\}\\\\\n",
    "A_{12} &= \\{\\diamondsuit, \\heartsuit, \\spadesuit\\}\\\\\n",
    "A_{13} &= \\{\\diamondsuit, \\heartsuit, \\clubsuit\\}\\\\\n",
    "A_{14} &= \\{\\diamondsuit, \\spadesuit, \\clubsuit\\}\\\\\n",
    "A_{15} &= \\{\\heartsuit, \\spadesuit, \\clubsuit\\}\\\\\n",
    "A_{16} &= \\{\\diamondsuit, \\heartsuit, \\spadesuit, \\clubsuit\\} \\\\\n",
    "\\end{aligned}\n",
    "\\tag{A.6.6}\n",
    "\\end{align}\n",
    "$$"
   ]
  },
  {
   "cell_type": "code",
   "execution_count": 6,
   "metadata": {},
   "outputs": [
    {
     "data": {
      "text/plain": [
       "{frozenset(),\n",
       " frozenset({'♣', '♥', '♦'}),\n",
       " frozenset({'♠', '♣', '♥'}),\n",
       " frozenset({'♦'}),\n",
       " frozenset({'♠', '♣', '♦'}),\n",
       " frozenset({'♥'}),\n",
       " frozenset({'♠'}),\n",
       " frozenset({'♠', '♦'}),\n",
       " frozenset({'♠', '♥', '♦'}),\n",
       " frozenset({'♣', '♥'}),\n",
       " frozenset({'♥', '♦'}),\n",
       " frozenset({'♣'}),\n",
       " frozenset({'♣', '♦'}),\n",
       " frozenset({'♠', '♣'}),\n",
       " frozenset({'♠', '♥'}),\n",
       " frozenset({'♠', '♣', '♥', '♦'})}"
      ]
     },
     "execution_count": 6,
     "metadata": {},
     "output_type": "execute_result"
    }
   ],
   "source": [
    "omega = {\"♦\", \"♥\", \"♠\", \"♣\"}\n",
    "SS1 = get_set_of_subsets(omega)\n",
    "SS1"
   ]
  },
  {
   "cell_type": "markdown",
   "metadata": {},
   "source": [
    "또는"
   ]
  },
  {
   "cell_type": "code",
   "execution_count": 7,
   "metadata": {},
   "outputs": [
    {
     "data": {
      "text/plain": [
       "{frozenset(),\n",
       " frozenset({'♣', '♥', '♦'}),\n",
       " frozenset({'♠', '♣', '♥'}),\n",
       " frozenset({'♦'}),\n",
       " frozenset({'♠', '♣', '♦'}),\n",
       " frozenset({'♥'}),\n",
       " frozenset({'♠'}),\n",
       " frozenset({'♠', '♦'}),\n",
       " frozenset({'♠', '♥', '♦'}),\n",
       " frozenset({'♣', '♥'}),\n",
       " frozenset({'♥', '♦'}),\n",
       " frozenset({'♣'}),\n",
       " frozenset({'♣', '♦'}),\n",
       " frozenset({'♠', '♣'}),\n",
       " frozenset({'♠', '♥'}),\n",
       " frozenset({'♠', '♣', '♥', '♦'})}"
      ]
     },
     "execution_count": 7,
     "metadata": {},
     "output_type": "execute_result"
    }
   ],
   "source": [
    "A_1 = frozenset([])\n",
    "A_2 = frozenset([\"♦\"])\n",
    "A_3 = frozenset([\"♥\"])\n",
    "A_4 = frozenset([\"♠\"])\n",
    "A_5 = frozenset([\"♣\"])\n",
    "A_6 = frozenset([\"♦\", \"♥\"])\n",
    "A_7 = frozenset([\"♦\", \"♠\"])\n",
    "A_8 = frozenset([\"♦\", \"♣\"])\n",
    "A_9 = frozenset([\"♥\", \"♠\"])\n",
    "A_10 = frozenset([\"♥\", \"♣\"])\n",
    "A_11 = frozenset([\"♠\", \"♣\"])\n",
    "A_12 = frozenset([\"♦\", \"♥\", \"♠\"])\n",
    "A_13 = frozenset([\"♦\", \"♥\", \"♣\"])\n",
    "A_14 = frozenset([\"♦\", \"♠\", \"♣\"])\n",
    "A_15 = frozenset([\"♥\", \"♠\", \"♣\"])\n",
    "A_16 = frozenset([\"♦\", \"♥\", \"♠\", \"♣\"])\n",
    "\n",
    "set([A_1, A_2, A_3, A_4, A_5, A_6, A_7, A_8, A_9,\n",
    "     A_10, A_11, A_12, A_13, A_14, A_15, A_16])"
   ]
  },
  {
   "cell_type": "markdown",
   "metadata": {},
   "source": [
    "(2)\n",
    "\n",
    "$$\n",
    "\\begin{align}\n",
    "\\begin{aligned}\n",
    "\\Omega_3 &= \\{HH, HT, TH, TT \\} \\\\\n",
    "B_1 &= \\{\\emptyset\\}\\\\\n",
    "B_2 &= \\{HH\\}\\\\\n",
    "B_3 &= \\{HT\\}\\\\\n",
    "B_4 &= \\{TH\\}\\\\\n",
    "B_5 &= \\{TT\\}\\\\\n",
    "B_6 &= \\{HH, HT\\}\\\\\n",
    "B_7 &= \\{HH, TH\\}\\\\\n",
    "B_8 &= \\{HH, TT\\}\\\\\n",
    "B_9 &= \\{HT, TH\\}\\\\\n",
    "B_{10} &= \\{HT, TT\\}\\\\\n",
    "B_{11} &= \\{TH, TT\\}\\\\\n",
    "B_{12} &= \\{HH, HT, TH\\}\\\\\n",
    "B_{13} &= \\{HH, HT, TT\\}\\\\\n",
    "B_{14} &= \\{HH, TH, TT\\}\\\\\n",
    "B_{15} &= \\{HT, TH, TT\\}\\\\\n",
    "B_{16} &= \\{HH, HT, TH, TT \\}\n",
    "\\end{aligned}\n",
    "\\tag{A.6.7}\n",
    "\\end{align}\n",
    "$$"
   ]
  },
  {
   "cell_type": "code",
   "execution_count": 8,
   "metadata": {},
   "outputs": [
    {
     "data": {
      "text/plain": [
       "{frozenset(),\n",
       " frozenset({'HT'}),\n",
       " frozenset({'TT'}),\n",
       " frozenset({'HT', 'TT'}),\n",
       " frozenset({'HH', 'HT'}),\n",
       " frozenset({'HH', 'TT'}),\n",
       " frozenset({'TH'}),\n",
       " frozenset({'TH', 'TT'}),\n",
       " frozenset({'HH', 'TH', 'TT'}),\n",
       " frozenset({'HT', 'TH', 'TT'}),\n",
       " frozenset({'HH'}),\n",
       " frozenset({'HH', 'TH'}),\n",
       " frozenset({'HH', 'HT', 'TT'}),\n",
       " frozenset({'HT', 'TH'}),\n",
       " frozenset({'HH', 'HT', 'TH'}),\n",
       " frozenset({'HH', 'HT', 'TH', 'TT'})}"
      ]
     },
     "execution_count": 8,
     "metadata": {},
     "output_type": "execute_result"
    }
   ],
   "source": [
    "omega = {\"HH\", \"HT\", \"TH\", \"TT\"}\n",
    "SS2 = get_set_of_subsets(omega)\n",
    "SS2"
   ]
  },
  {
   "cell_type": "markdown",
   "metadata": {},
   "source": [
    "또는"
   ]
  },
  {
   "cell_type": "code",
   "execution_count": 9,
   "metadata": {},
   "outputs": [],
   "source": [
    "B_1 = frozenset([])\n",
    "B_2 = frozenset([\"HH\"])\n",
    "B_3 = frozenset([\"HT\"])\n",
    "B_4 = frozenset([\"TH\"])\n",
    "B_5 = frozenset([\"TT\"])\n",
    "B_6 = frozenset([\"HH\", \"HT\"])\n",
    "B_7 = frozenset([\"HH\", \"TH\"])\n",
    "B_8 = frozenset([\"HH\", \"TT\"])\n",
    "B_9 = frozenset([\"HT\", \"TH\"])\n",
    "B_10 = frozenset([\"HT\", \"TT\"])\n",
    "B_11 = frozenset([\"TH\", \"TT\"])\n",
    "B_12 = frozenset([\"HH\", \"HT\", \"TH\"])\n",
    "B_13 = frozenset([\"HH\", \"HT\", \"TT\"])\n",
    "B_14 = frozenset([\"HH\", \"TH\", \"TT\"])\n",
    "B_15 = frozenset([\"HT\", \"TH\", \"TT\"])\n",
    "B_16 = frozenset([\"HH\", \"HT\", \"TH\", \"TT\"])"
   ]
  },
  {
   "cell_type": "code",
   "execution_count": 10,
   "metadata": {},
   "outputs": [
    {
     "data": {
      "text/plain": [
       "{frozenset(),\n",
       " frozenset({'HH'}),\n",
       " frozenset({'HT'}),\n",
       " frozenset({'HH', 'HT'}),\n",
       " frozenset({'HT', 'TT'}),\n",
       " frozenset({'HH', 'TT'}),\n",
       " frozenset({'TH'}),\n",
       " frozenset({'HH', 'TH'}),\n",
       " frozenset({'HH', 'TH', 'TT'}),\n",
       " frozenset({'HH', 'HT', 'TH'}),\n",
       " frozenset({'TT'}),\n",
       " frozenset({'TH', 'TT'}),\n",
       " frozenset({'HH', 'HT', 'TT'}),\n",
       " frozenset({'HT', 'TH'}),\n",
       " frozenset({'HT', 'TH', 'TT'}),\n",
       " frozenset({'HH', 'HT', 'TH', 'TT'})}"
      ]
     },
     "execution_count": 10,
     "metadata": {},
     "output_type": "execute_result"
    }
   ],
   "source": [
    "set([B_1, B_2, B_3, B_4, B_5, B_6, B_7, B_8,\n",
    "     B_9, B_10, B_11, B_12, B_13, B_14, B_15, B_16])"
   ]
  },
  {
   "cell_type": "markdown",
   "metadata": {},
   "source": [
    "#### 연습 문제 6.2.5의 답 "
   ]
  },
  {
   "cell_type": "code",
   "execution_count": 11,
   "metadata": {},
   "outputs": [
    {
     "data": {
      "text/plain": [
       "{frozenset(): 0,\n",
       " frozenset({'♦'}): 0.25,\n",
       " frozenset({'♥'}): 0.25,\n",
       " frozenset({'♠'}): 0.25,\n",
       " frozenset({'♣'}): 0.25,\n",
       " frozenset({'♥', '♦'}): 0.5,\n",
       " frozenset({'♠', '♦'}): 0.5,\n",
       " frozenset({'♣', '♦'}): 0.5,\n",
       " frozenset({'♠', '♥'}): 0.5,\n",
       " frozenset({'♣', '♥'}): 0.5,\n",
       " frozenset({'♠', '♣'}): 0.5,\n",
       " frozenset({'♠', '♥', '♦'}): 0.75,\n",
       " frozenset({'♣', '♥', '♦'}): 0.75,\n",
       " frozenset({'♠', '♣', '♦'}): 0.75,\n",
       " frozenset({'♠', '♣', '♥'}): 0.75,\n",
       " frozenset({'♠', '♣', '♥', '♦'}): 1}"
      ]
     },
     "execution_count": 11,
     "metadata": {},
     "output_type": "execute_result"
    }
   ],
   "source": [
    "# (1)\n",
    "\n",
    "P1 = {\n",
    "    A_1: 0, A_2: 0.25, A_3: 0.25, \n",
    "    A_4: 0.25, A_5: 0.25, A_6: 0.5, \n",
    "    A_7: 0.5, A_8: 0.5, A_9: 0.5,\n",
    "    A_10: 0.5, A_11: 0.5, \n",
    "    A_12: 0.75, A_13: 0.75, \n",
    "    A_14: 0.75, A_15: 0.75, \n",
    "    A_16: 1}\n",
    "P1"
   ]
  },
  {
   "cell_type": "code",
   "execution_count": 12,
   "metadata": {},
   "outputs": [
    {
     "data": {
      "text/plain": [
       "{frozenset(): 0,\n",
       " frozenset({'HH'}): 0.25,\n",
       " frozenset({'HT'}): 0.25,\n",
       " frozenset({'TH'}): 0.25,\n",
       " frozenset({'TT'}): 0.25,\n",
       " frozenset({'HH', 'HT'}): 0.5,\n",
       " frozenset({'HH', 'TH'}): 0.5,\n",
       " frozenset({'HH', 'TT'}): 0.5,\n",
       " frozenset({'HT', 'TH'}): 0.5,\n",
       " frozenset({'HT', 'TT'}): 0.5,\n",
       " frozenset({'TH', 'TT'}): 0.5,\n",
       " frozenset({'HH', 'HT', 'TH'}): 0.75,\n",
       " frozenset({'HH', 'HT', 'TT'}): 0.75,\n",
       " frozenset({'HH', 'TH', 'TT'}): 0.75,\n",
       " frozenset({'HT', 'TH', 'TT'}): 0.75,\n",
       " frozenset({'HH', 'HT', 'TH', 'TT'}): 1}"
      ]
     },
     "execution_count": 12,
     "metadata": {},
     "output_type": "execute_result"
    }
   ],
   "source": [
    "# (2)\n",
    "\n",
    "P2 = {\n",
    "    B_1: 0, B_2: 1/4, B_3: 1/4, \n",
    "    B_4: 1/4, B_5: 1/4, B_6: 2/4, \n",
    "    B_7: 2/4, B_8: 2/4, B_9: 2/4, \n",
    "    B_10: 2/4, B_11: 2/4, \n",
    "    B_12: 3/4, B_13: 3/4, \n",
    "    B_14: 3/4, B_15: 3/4, \n",
    "    B_16: 1}\n",
    "P2"
   ]
  },
  {
   "cell_type": "markdown",
   "metadata": {},
   "source": [
    "#### 연습 문제 6.2.6의 답 "
   ]
  },
  {
   "cell_type": "markdown",
   "metadata": {},
   "source": [
    "$$\n",
    "\\begin{align}\n",
    "P({2}) + P({3}) + P({4}) + P({4})  = 1 - 0.5 = 0.5\n",
    "\\tag{A.6.8}\n",
    "\\end{align}\n",
    "$$\n",
    "\n",
    "되는 임의의 값을 할당해도 된다."
   ]
  },
  {
   "cell_type": "code",
   "execution_count": 13,
   "metadata": {},
   "outputs": [
    {
     "data": {
      "text/plain": [
       "{frozenset({1, 3, 5}): 0.76,\n",
       " frozenset({1, 4}): 0.63,\n",
       " frozenset({4, 6}): 0.13,\n",
       " frozenset({2, 3}): 0.22999999999999998,\n",
       " frozenset({2, 3, 4}): 0.36,\n",
       " frozenset({1, 4, 5, 6}): 0.77,\n",
       " frozenset({2, 6}): 0.11,\n",
       " frozenset({4, 5}): 0.27,\n",
       " frozenset({2, 3, 5, 6}): 0.37,\n",
       " frozenset({1, 2, 3, 6}): 0.73,\n",
       " frozenset({1}): 0.5,\n",
       " frozenset({1, 2, 3, 4, 5, 6}): 1.0,\n",
       " frozenset({2, 4, 5, 6}): 0.38,\n",
       " frozenset({4, 5, 6}): 0.27,\n",
       " frozenset({1, 3, 4, 6}): 0.75,\n",
       " frozenset({2, 3, 4, 6}): 0.36,\n",
       " frozenset({1, 2, 3, 4, 6}): 0.86,\n",
       " frozenset({1, 3, 4, 5, 6}): 0.89,\n",
       " frozenset({1, 4, 6}): 0.63,\n",
       " frozenset({3, 4}): 0.25,\n",
       " frozenset({2, 4, 6}): 0.24,\n",
       " frozenset({3, 4, 5, 6}): 0.39,\n",
       " frozenset({1, 2, 3, 4, 5}): 1.0,\n",
       " frozenset({2, 4}): 0.24,\n",
       " frozenset({5, 6}): 0.14,\n",
       " frozenset({2, 3, 5}): 0.37,\n",
       " frozenset({3, 4, 6}): 0.25,\n",
       " frozenset({3, 5}): 0.26,\n",
       " frozenset({2, 5, 6}): 0.25,\n",
       " frozenset({3, 4, 5}): 0.39,\n",
       " frozenset({1, 6}): 0.5,\n",
       " frozenset({1, 2, 3}): 0.73,\n",
       " frozenset({1, 2, 4, 6}): 0.74,\n",
       " frozenset({1, 3}): 0.62,\n",
       " frozenset({1, 2, 6}): 0.61,\n",
       " frozenset({1, 3, 4}): 0.75,\n",
       " frozenset({1, 2, 4, 5}): 0.88,\n",
       " frozenset({1, 3, 5, 6}): 0.76,\n",
       " frozenset({1, 2, 3, 5, 6}): 0.87,\n",
       " frozenset({3, 6}): 0.12,\n",
       " frozenset({2, 3, 6}): 0.22999999999999998,\n",
       " frozenset({2, 3, 4, 5}): 0.5,\n",
       " frozenset({1, 2, 5}): 0.75,\n",
       " frozenset({1, 5}): 0.64,\n",
       " frozenset({1, 4, 5}): 0.77,\n",
       " frozenset({1, 2, 3, 4}): 0.86,\n",
       " frozenset({2, 3, 4, 5, 6}): 0.5,\n",
       " frozenset({5}): 0.14,\n",
       " frozenset({4}): 0.13,\n",
       " frozenset({2}): 0.11,\n",
       " frozenset({1, 2, 4, 5, 6}): 0.88,\n",
       " frozenset({1, 2, 4}): 0.74,\n",
       " frozenset({1, 2}): 0.61,\n",
       " frozenset({1, 3, 6}): 0.62,\n",
       " frozenset({1, 2, 5, 6}): 0.75,\n",
       " frozenset({1, 2, 3, 5}): 0.87,\n",
       " frozenset({1, 3, 4, 5}): 0.89,\n",
       " frozenset({2, 4, 5}): 0.38,\n",
       " frozenset({2, 5}): 0.25,\n",
       " frozenset({3, 5, 6}): 0.26,\n",
       " frozenset({3}): 0.12,\n",
       " frozenset({6}): 0.0,\n",
       " frozenset(): 0.0,\n",
       " frozenset({1, 5, 6}): 0.64}"
      ]
     },
     "execution_count": 13,
     "metadata": {},
     "output_type": "execute_result"
    }
   ],
   "source": [
    "omega = {1, 2, 3, 4, 5, 6}\n",
    "SS3 = get_set_of_subsets(omega)\n",
    "\n",
    "P3 = {}\n",
    "\n",
    "for i in SS3:\n",
    "    probability = 0.0\n",
    "    if 1 in i:\n",
    "        probability += 0.5 # P({1}) = 0.5\n",
    "    if 2 in i:\n",
    "        probability += 0.11 # 또는 다른 값\n",
    "    if 3 in i:\n",
    "        probability += 0.12 # 또는 다른 값\n",
    "    if 4 in i:\n",
    "        probability += 0.13 # 또는 다른 값\n",
    "    if 5 in i:\n",
    "        probability += 0.14 # 또는 다른 값\n",
    "    if 6 in i:\n",
    "        probability += 0 # P({6}) = 0\n",
    "\n",
    "    P3[i] = probability\n",
    "P3"
   ]
  },
  {
   "cell_type": "markdown",
   "metadata": {},
   "source": [
    "#### 연습 문제 6.1.7의 답"
   ]
  },
  {
   "cell_type": "markdown",
   "metadata": {},
   "source": [
    "(1) 만약 윤년 등을 고려하지 않는다면 1년의 날짜는 365일이고 이 중 31일은 7번 존재한다."
   ]
  },
  {
   "cell_type": "code",
   "execution_count": 14,
   "metadata": {},
   "outputs": [
    {
     "data": {
      "text/plain": [
       "{'True': 0.019178082191780823, 'False': 0.9808219178082191}"
      ]
     },
     "execution_count": 14,
     "metadata": {},
     "output_type": "execute_result"
    }
   ],
   "source": [
    "# (1)\n",
    "\n",
    "P4 = {\"True\": 7 / 365, \"False\": 358 / 365}\n",
    "P4"
   ]
  },
  {
   "cell_type": "markdown",
   "metadata": {},
   "source": [
    "(2) 만약 두 사건에 대해 같은 확률을 할당한다면 다음과 같다."
   ]
  },
  {
   "cell_type": "code",
   "execution_count": 15,
   "metadata": {},
   "outputs": [
    {
     "data": {
      "text/plain": [
       "{frozenset({'A'}): 0.5, frozenset({'O'}): 0.5}"
      ]
     },
     "execution_count": 15,
     "metadata": {},
     "output_type": "execute_result"
    }
   ],
   "source": [
    "# (2)\n",
    "\n",
    "P5 = {}\n",
    "P5[frozenset(\"A\")] = 0.5\n",
    "P5[frozenset(\"O\")] = 0.5\n",
    "P5"
   ]
  },
  {
   "cell_type": "markdown",
   "metadata": {},
   "source": [
    "(3) 만약 두 사건에 대해 과일의 개수에 비례하는 확률을 할당한다면 다음과 같다."
   ]
  },
  {
   "cell_type": "code",
   "execution_count": 16,
   "metadata": {},
   "outputs": [
    {
     "data": {
      "text/plain": [
       "{frozenset({'A'}): 0.7, frozenset({'O'}): 0.3}"
      ]
     },
     "execution_count": 16,
     "metadata": {},
     "output_type": "execute_result"
    }
   ],
   "source": [
    "# (3)\n",
    "\n",
    "P6 = {}\n",
    "P6[frozenset(\"A\")] = 70 / 100\n",
    "P6[frozenset(\"O\")] = 30 / 100\n",
    "P6"
   ]
  },
  {
   "cell_type": "markdown",
   "metadata": {
    "school_cell_uuid": "594344ad64d440b9a2c4b51aabdc890f"
   },
   "source": [
    "#### 연습 문제 6.3.1의 답"
   ]
  },
  {
   "cell_type": "markdown",
   "metadata": {},
   "source": [
    "$$\n",
    "\\begin{align}\n",
    "A =  \\{\\text{남자}\\}\n",
    "\\tag{A.6.9}\n",
    "\\end{align}\n",
    "$$\n",
    "\n",
    "$$\n",
    "\\begin{align}\n",
    "\\begin{aligned}\n",
    "|A| &= 8 \\\\\n",
    "P(A) &= 8 / 20\n",
    "\\end{aligned}\n",
    "\\tag{A.6.10}\n",
    "\\end{align}\n",
    "$$"
   ]
  },
  {
   "cell_type": "markdown",
   "metadata": {},
   "source": [
    "$$\n",
    "\\begin{align}\n",
    "B = \\{\\text{머리가 긴 사람}\\}\n",
    "\\tag{A.6.11}\n",
    "\\end{align}\n",
    "$$\n",
    "\n",
    "$$\n",
    "\\begin{align}\n",
    "\\begin{aligned}\n",
    "|B| &= 12 \\\\\n",
    "P(B) &= 12 / 20\n",
    "\\end{aligned}\n",
    "\\tag{A.6.12}\n",
    "\\end{align}\n",
    "$$"
   ]
  },
  {
   "cell_type": "markdown",
   "metadata": {},
   "source": [
    "$$\n",
    "\\begin{align}\n",
    "C = \\{1, 2, 3, 4, 5, 6, 7, 8, 9, 10, 11, 12\\}\n",
    "\\tag{A.6.13}\n",
    "\\end{align}\n",
    "$$\n",
    "\n",
    "$$\n",
    "\\begin{align}\n",
    "\\begin{aligned}\n",
    "|C_{1}| &= 0 \\\\\n",
    "|C_{2}| &= 1 \\\\\n",
    "|C_{3}| &= 2 \\\\ \n",
    "|C_{4}| &= 0 \\\\\n",
    "|C_{5}| &= 4 \\\\\n",
    "|C_{6}| &= 1 \\\\\n",
    "|C_{7}| &= 3 \\\\ \n",
    "|C_{8}| &= 3 \\\\\n",
    "|C_{9}| &= 4 \\\\\n",
    "|C_{10}| &= 1 \\\\\n",
    "|C_{11}| &= 0 \\\\ \n",
    "|C_{12}| &= 1 \\\\\n",
    "\\end{aligned}\n",
    "\\tag{A.6.14}\n",
    "\\end{align}\n",
    "$$"
   ]
  },
  {
   "cell_type": "markdown",
   "metadata": {},
   "source": [
    "$$\n",
    "\\begin{align}\n",
    "\\begin{aligned}\n",
    "P(C_{1}) &= 0 \\\\\n",
    "P(C_{2}) &= 1/20 \\\\ \n",
    "P(C_{3}) &= 2/20 \\\\\n",
    "P(C_{4}) &= 0 \\\\\n",
    "P(C_{5}) &= 4/20 \\\\\n",
    "P(C_{6}) &= 1/20 \\\\ \n",
    "P(C_{7}) &= 3/20 \\\\\n",
    "P(C_{8}) &= 3/20 \\\\\n",
    "P(C_{9}) &= 4/20 \\\\\n",
    "P(C_{10}) &= 1/20 \\\\ \n",
    "P(C_{11}) &= 0 \\\\\n",
    "P(C_{12}) &= 1/20 \\\\\n",
    "\\end{aligned}\n",
    "\\tag{A.6.15}\n",
    "\\end{align}\n",
    "$$"
   ]
  },
  {
   "cell_type": "markdown",
   "metadata": {},
   "source": [
    "#### 연습 문제 6.3.2의 답"
   ]
  },
  {
   "cell_type": "markdown",
   "metadata": {},
   "source": [
    "* 여집합의 확률\n",
    "\n",
    "$$\n",
    "\\begin{align}\n",
    "\\begin{aligned}\n",
    "|A^C| &= 12 \\\\\n",
    "P(A^C) &= 1 - P(A) = 12 / 20 \n",
    "\\end{aligned}\n",
    "\\tag{A.6.16}\n",
    "\\end{align}\n",
    "$$"
   ]
  },
  {
   "cell_type": "markdown",
   "metadata": {},
   "source": [
    "$$\n",
    "\\begin{align}\n",
    "\\begin{aligned}\n",
    "|B^C| &= 8 \\\\\n",
    "P(B^C) &= 8 / 20 \n",
    "\\end{aligned}\n",
    "\\tag{A.6.17}\n",
    "\\end{align}\n",
    "$$"
   ]
  },
  {
   "cell_type": "markdown",
   "metadata": {},
   "source": [
    "$$\n",
    "\\begin{align}\n",
    "\\begin{aligned}\n",
    "P(C_{1}^C) &= 1 \\\\\n",
    "P(C_{2}^C) &= 19/20 \\\\ \n",
    "P(C_{3}^C) &= 18/20 \\\\\n",
    "P(C_{4}^C) &= 1 \\\\\n",
    "P(C_{5}^C) &= 16/20 \\\\\n",
    "P(C_{6}^C) &= 19/20 \\\\ \n",
    "P(C_{7}^C) &= 17/20 \\\\\n",
    "P(C_{8}^C) &= 17/20 \\\\\n",
    "P(C_{9}^C) &= 16/20 \\\\\n",
    "P(C_{10}^C) &= 19/20 \\\\ \n",
    "P(C_{11}^C) &= 1 \\\\\n",
    "P(C_{12}^C) &= 19/20 \\\\\n",
    "\\end{aligned}\n",
    "\\tag{A.6.18}\n",
    "\\end{align}\n",
    "$$"
   ]
  },
  {
   "cell_type": "markdown",
   "metadata": {},
   "source": [
    "* 포함-배제 원리 \n",
    "\n",
    "남자이면서 머리가 긴 남성의 수 : 4\n",
    "\n",
    "$$\n",
    "\\begin{align}\n",
    "\\begin{aligned}\n",
    "|A\\cap B| &= 4 \\\\\n",
    "|A| + |B| &= 20 \\\\\n",
    "|A \\cup B| &= 20 - 4 \\\\\n",
    "P(A \\cup B) &= 16 /20\n",
    "\\end{aligned}\n",
    "\\tag{A.6.19}\n",
    "\\end{align}\n",
    "$$"
   ]
  },
  {
   "cell_type": "markdown",
   "metadata": {},
   "source": [
    "* 전체 확률의 법칙\n",
    "\n",
    "$$\n",
    "\\begin{align}\n",
    "\\begin{aligned}\n",
    "\\displaystyle\\sum_{i=1}^{12}\\sum_{j=1}^{12}|C_{i} \\cap C_{j}| &= \\emptyset,  (i \\neq j) \\\\ \n",
    "\\displaystyle\\sum_{i=1}^{12}|C_{i}| &= 20\n",
    "\\end{aligned}\n",
    "\\tag{A.6.20}\n",
    "\\end{align}\n",
    "$$"
   ]
  },
  {
   "cell_type": "markdown",
   "metadata": {},
   "source": [
    "$$\n",
    "\\begin{align}\n",
    "\\begin{aligned}\n",
    "P(A) \n",
    "&= P(A \\cap C_{1}) +  P(A \\cap C_{2}) + P(A \\cap C_{3}) + \\\\\n",
    "& P(A \\cap C_{4}) + P(A \\cap C_{5}) + P(A \\cap C_{6}) + \\\\\n",
    "& P(A \\cap C_{7}) + P(A \\cap C_{8}) + P(A \\cap C_{9}) + \\\\\n",
    "& P(A \\cap C_{10}) + P(A \\cap C_{11}) + P(A \\cap C_{12})\n",
    "\\end{aligned}\n",
    "\\tag{A.6.21}\n",
    "\\end{align}\n",
    "$$"
   ]
  },
  {
   "cell_type": "markdown",
   "metadata": {},
   "source": [
    "#### 연습 문제 6.4.1의 답 "
   ]
  },
  {
   "cell_type": "markdown",
   "metadata": {},
   "source": [
    "(1)\n",
    "\n",
    "$$\n",
    "\\begin{align}\n",
    "P(\\{1, 2\\}) = p(1) + p(2) = 0.1 + 0.1 = 0.2\n",
    "\\tag{A.6.22}\n",
    "\\end{align}\n",
    "$$\n",
    "\n",
    "(2)\n",
    "\n",
    "$$\n",
    "\\begin{align}\n",
    "P(\\{4, 5, 6\\}) = p(4) + p(5) + p(6) = 0.1 + 0.1 + 0.5 = 0.7\n",
    "\\tag{A.6.23}\n",
    "\\end{align}\n",
    "$$\n"
   ]
  },
  {
   "cell_type": "markdown",
   "metadata": {},
   "source": [
    "#### 연습 문제 6.4.2의 답 "
   ]
  },
  {
   "cell_type": "markdown",
   "metadata": {},
   "source": [
    "부분집합을 각도 구간으로 정의하면 구간의 시작각도와 종료각도로 부분집합을 정의할 수 있다. 이 두 입력변수를 받아서 확률을 출력하는 함수를 구현하면 된다."
   ]
  },
  {
   "cell_type": "markdown",
   "metadata": {},
   "source": [
    "#### 연습 문제 6.4.3의 답 "
   ]
  },
  {
   "cell_type": "code",
   "execution_count": 17,
   "metadata": {},
   "outputs": [
    {
     "data": {
      "text/plain": [
       "0.8333333333333333"
      ]
     },
     "execution_count": 17,
     "metadata": {},
     "output_type": "execute_result"
    }
   ],
   "source": [
    "def P(a, b):\n",
    "    if a > b:\n",
    "        raise ValueError(\"a must be less than b or equal to b\")\n",
    "    a = np.maximum(a, 0)\n",
    "    b = np.minimum(b, 360)\n",
    "    \n",
    "    if b < 180:\n",
    "        return (2 / 3) * ((b - a) / 180)\n",
    "    else:\n",
    "        if a < 180:\n",
    "            return (2 / 3) * ((180 - a) / 180) \\\n",
    "                   + (1 / 3) * ((b - 180) / 180)\n",
    "        return (1 / 3) * (((b - a) / 180))\n",
    "\n",
    "\n",
    "P(0, 270)"
   ]
  },
  {
   "cell_type": "markdown",
   "metadata": {},
   "source": [
    "또는"
   ]
  },
  {
   "cell_type": "code",
   "execution_count": 18,
   "metadata": {},
   "outputs": [
    {
     "data": {
      "text/plain": [
       "0.8333333333333334"
      ]
     },
     "execution_count": 18,
     "metadata": {},
     "output_type": "execute_result"
    }
   ],
   "source": [
    "P = lambda a, b: \\\n",
    "    (2 * (b - a) if b < 180 else b - 2 * a + 180 \\\n",
    "     if a < 180 else b - a) / 540\n",
    "   \n",
    "P(0, 270)"
   ]
  },
  {
   "cell_type": "markdown",
   "metadata": {},
   "source": [
    "#### 연습 문제 6.4.4의 답 "
   ]
  },
  {
   "cell_type": "code",
   "execution_count": 19,
   "metadata": {},
   "outputs": [],
   "source": [
    "def F(a):\n",
    "    if a < 0:\n",
    "        return 0\n",
    "    if a > 360:\n",
    "        return 1\n",
    "    elif a < 180:\n",
    "        return (2 / 3) * (a / 180)\n",
    "    elif a >= 180:\n",
    "        return (2 / 3) + (1 / 3) * ((a - 180) / 180)"
   ]
  },
  {
   "cell_type": "markdown",
   "metadata": {},
   "source": [
    "또는"
   ]
  },
  {
   "cell_type": "code",
   "execution_count": 20,
   "metadata": {},
   "outputs": [
    {
     "data": {
      "image/png": "[encoded data removed]",
      "text/plain": [
       "<Figure size 2400x1500 with 1 Axes>"
      ]
     },
     "metadata": {
      "needs_background": "light"
     },
     "output_type": "display_data"
    }
   ],
   "source": [
    "F = lambda a: 0 \\\n",
    "    if a < 0 else 1 if a > 360 else a / 270 \\\n",
    "    if a < 180 else (2 / 3) + (a - 180) / 540\n",
    "\n",
    "t = np.linspace(-100, 500, 100)\n",
    "Fs = np.array(list(map(F, t)))\n",
    "plt.plot(t, Fs)\n",
    "plt.ylim(-0.1, 1.1)\n",
    "plt.xticks([0, 180, 360])\n",
    "plt.title(\"누적분포함수\")\n",
    "plt.xlabel(\"$x$ (도)\")\n",
    "plt.ylabel(\"$F(x)$\")\n",
    "plt.show()"
   ]
  },
  {
   "cell_type": "markdown",
   "metadata": {},
   "source": [
    "#### 연습 문제 6.4.5의 답 "
   ]
  },
  {
   "cell_type": "code",
   "execution_count": 21,
   "metadata": {},
   "outputs": [],
   "source": [
    "def p(a):\n",
    "    if a < 0 or a > 360:\n",
    "        return 0\n",
    "    elif a < 180:\n",
    "        return 2 / 3 / 180\n",
    "    elif a >= 180:\n",
    "        return 1 / 3 / 180"
   ]
  },
  {
   "cell_type": "markdown",
   "metadata": {},
   "source": [
    "또는"
   ]
  },
  {
   "cell_type": "code",
   "execution_count": 22,
   "metadata": {},
   "outputs": [
    {
     "data": {
      "image/png": "[encoded data removed]",
      "text/plain": [
       "<Figure size 2400x1500 with 1 Axes>"
      ]
     },
     "metadata": {
      "needs_background": "light"
     },
     "output_type": "display_data"
    }
   ],
   "source": [
    "p = lambda a: 0 \\\n",
    "    if a < 0 or a > 360 else 1 / 270 \\\n",
    "    if a < 180 else 1 / 540  \n",
    "\n",
    "t = np.linspace(-100, 500, 600)\n",
    "ps = np.array(list(map(p, t)))\n",
    "plt.plot(t, ps)\n",
    "plt.ylim(-0.001, ps.max() * 1.1)\n",
    "plt.xticks([0, 180, 360])\n",
    "plt.title(\"확률밀도함수\")\n",
    "plt.xlabel(\"$x$ (도)\")\n",
    "plt.ylabel(\"$p(x)$\")\n",
    "plt.show()"
   ]
  },
  {
   "cell_type": "markdown",
   "metadata": {
    "school_cell_uuid": "594344ad64d440b9a2c4b51aabdc890f"
   },
   "source": [
    "#### 연습 문제 6.5.1의 답 "
   ]
  },
  {
   "cell_type": "markdown",
   "metadata": {},
   "source": [
    "(1) \n",
    "\n",
    "$$\n",
    "\\begin{align}\n",
    "P(A|B^C) = \\frac{P(A, B^C)}{P(B^C)} = \\frac{\\frac{9}{20}}{\\frac{10}{20}} = \\frac{9}{10}\n",
    "\\tag{A.6.24}\n",
    "\\end{align}\n",
    "$$\n",
    "\n",
    "(2) \n",
    "\n",
    "$$\n",
    "\\begin{align}\n",
    "P(A^C|B) = \\frac{P(A^C, B)}{P(B)} = \\frac{\\frac{7}{20}}{\\frac{10}{20}} = \\frac{7}{10}\n",
    "\\tag{A.6.25}\n",
    "\\end{align}\n",
    "$$\n",
    "\n",
    "(3) \n",
    "\n",
    "$$\n",
    "\\begin{align}\n",
    "P(A^C|B^C) = \\frac{P(A^C, B^C)}{P(B^C)} = \\frac{\\frac{7}{20}}{\\frac{10}{20}} = \\frac{7}{10}\n",
    "\\tag{A.6.26}\n",
    "\\end{align}\n",
    "$$\n",
    "\n",
    "(4) \n",
    "\n",
    "$$\n",
    "\\begin{align}\n",
    "P(B|A) = \\frac{P(A, B)}{P(A)} = \\frac{\\frac{3}{20}}{\\frac{6}{10}} = \\frac{1}{4}\n",
    "\\tag{A.6.27}\n",
    "\\end{align}\n",
    "$$\n",
    "\n",
    "(5) \n",
    "\n",
    "$$\n",
    "\\begin{align}\n",
    "P(B|A^C) = \\frac{P(A^C, B)}{P(A^C)} = \\frac{\\frac{7}{20}}{\\frac{4}{10}} = \\frac{7}{8}\n",
    "\\tag{A.6.28}\n",
    "\\end{align}\n",
    "$$\n",
    "\n",
    "(6) \n",
    "\n",
    "$$\n",
    "\\begin{align}\n",
    "P(B^C|A) = \\frac{P(A, B^C)}{P(A)} = \\frac{\\frac{9}{20}}{\\frac{6}{10}} = \\frac{3}{4}\n",
    "\\tag{A.6.29}\n",
    "\\end{align}\n",
    "$$\n",
    "\n",
    "(7) \n",
    "\n",
    "$$\n",
    "\\begin{align}\n",
    "P(B^C|A^C) = \\frac{P(A^C, B^C)}{P(A^C)} = \\frac{\\frac{1}{20}}{\\frac{4}{10}} = \\frac{1}{8}\n",
    "\\tag{A.6.30}\n",
    "\\end{align}\n",
    "$$\n"
   ]
  },
  {
   "cell_type": "markdown",
   "metadata": {
    "school_cell_uuid": "594344ad64d440b9a2c4b51aabdc890f"
   },
   "source": [
    "#### 연습 문제 6.5.2의 답 "
   ]
  },
  {
   "cell_type": "markdown",
   "metadata": {},
   "source": [
    "(1) \n",
    "\n",
    "$$\n",
    "\\begin{align}\n",
    "P(A|B^C) = \\frac{P(A, B^C)}{P(B^C)} = \\frac{\\frac{6}{20}}{\\frac{10}{20}} = \\frac{3}{5}\n",
    "\\tag{A.6.31}\n",
    "\\end{align}\n",
    "$$\n",
    "\n",
    "(2) \n",
    "\n",
    "$$\n",
    "\\begin{align}\n",
    "P(A^C|B) = \\frac{P(A^C, B)}{P(B)} = \\frac{\\frac{4}{20}}{\\frac{10}{20}} = \\frac{2}{5}\n",
    "\\tag{A.6.32}\n",
    "\\end{align}\n",
    "$$\n",
    "\n",
    "(3) \n",
    "\n",
    "$$\n",
    "\\begin{align}\n",
    "P(A^C|B^C) = \\frac{P(A^C, B^C)}{P(B^C)} = \\frac{\\frac{4}{20}}{\\frac{10}{20}} = \\frac{2}{5}\n",
    "\\tag{A.6.33}\n",
    "\\end{align}\n",
    "$$\n",
    "\n",
    "(4) \n",
    "\n",
    "$$\n",
    "\\begin{align}\n",
    "P(B|A) = \\frac{P(A, B)}{P(A)} = \\frac{\\frac{6}{20}}{\\frac{6}{10}} = \\frac{1}{2}\n",
    "\\tag{A.6.34}\n",
    "\\end{align}\n",
    "$$\n",
    "\n",
    "(5) \n",
    "\n",
    "$$\n",
    "\\begin{align}\n",
    "P(B|A^C) = \\frac{P(A^C, B)}{P(A^C)} = \\frac{\\frac{4}{20}}{\\frac{4}{10}} = \\frac{1}{2}\n",
    "\\tag{A.6.35}\n",
    "\\end{align}\n",
    "$$\n",
    "\n",
    "(6) \n",
    "\n",
    "$$\n",
    "\\begin{align}\n",
    "P(B^C|A) = \\frac{P(A, B^C)}{P(A)} = \\frac{\\frac{6}{20}}{\\frac{6}{10}} = \\frac{1}{2}\n",
    "\\tag{A.6.36}\n",
    "\\end{align}\n",
    "$$\n",
    "\n",
    "(7) \n",
    "\n",
    "$$\n",
    "\\begin{align}\n",
    "P(B^C|A^C) = \\frac{P(A^C, B^C)}{P(A^C)} = \\frac{\\frac{4}{20}}{\\frac{4}{10}} = \\frac{1}{2}\n",
    "\\tag{A.6.37}\n",
    "\\end{align}\n",
    "$$\n"
   ]
  },
  {
   "cell_type": "markdown",
   "metadata": {
    "school_cell_uuid": "594344ad64d440b9a2c4b51aabdc890f"
   },
   "source": [
    "#### 연습 문제 6.5.3의 답 "
   ]
  },
  {
   "cell_type": "markdown",
   "metadata": {},
   "source": [
    "(1) \n",
    "\n",
    "$$\n",
    "\\begin{align}\n",
    "P(A \\cap B|C \\cap D) = \\frac{P((A \\cap B)\\cap (C \\cap D))}{P(C \\cap D)}\n",
    "\\tag{A.6.38}\n",
    "\\end{align}\n",
    "$$\n",
    "\n",
    "$$\n",
    "\\begin{align}\n",
    "P(A, B|C, D) = \\frac{P(A,B,C,D)}{P(C,D)}\n",
    "\\tag{A.6.39}\n",
    "\\end{align}\n",
    "$$\n",
    "\n",
    "따라서\n",
    "\n",
    "$$\n",
    "\\begin{align}\n",
    "P(A,B,C,D) = P(A,B|C,D)P(C,D)\n",
    "\\tag{A.6.40}\n",
    "\\end{align}\n",
    "$$\n",
    "\n",
    "\n"
   ]
  },
  {
   "cell_type": "markdown",
   "metadata": {},
   "source": [
    "(2)\n",
    "\n",
    "$$\n",
    "\\begin{align}\n",
    "P(A,B,C) = P(A,B|C)P(C)\n",
    "\\tag{A.6.41}\n",
    "\\end{align}\n",
    "$$\n",
    "\n",
    "$$\n",
    "\\begin{align}\n",
    "P(A,B,C) = P(A|B,C)P(B,C)\n",
    "\\tag{A.6.42}\n",
    "\\end{align}\n",
    "$$\n",
    "\n",
    "따라서\n",
    "\n",
    "$$\n",
    "\\begin{align}\n",
    "P(A,B|C)P(C) = P(A|B,C)P(B,C)\n",
    "\\tag{A.6.43}\n",
    "\\end{align}\n",
    "$$\n",
    "\n"
   ]
  },
  {
   "cell_type": "markdown",
   "metadata": {},
   "source": [
    "(3)\n",
    "\n",
    "\n",
    "$$\n",
    "\\begin{align}\n",
    "P(A,B,C,D,E) = P(A,B,C|D,E){P(D,E)}\n",
    "\\tag{A.6.44}\n",
    "\\end{align}\n",
    "$$\n",
    "\n",
    "$$\n",
    "\\begin{align}\n",
    "P(A,B,C,D,E) = P(A,B|C,D,E)P(C,D,E)\n",
    "\\tag{A.6.45}\n",
    "\\end{align}\n",
    "$$\n",
    "\n",
    "$$\n",
    "\\begin{align}\n",
    "P(C,D,E) = P(C,D|E)P(E)\n",
    "\\tag{A.6.46}\n",
    "\\end{align}\n",
    "$$\n",
    "\n",
    "$$\n",
    "\\begin{align}\n",
    "P(A,B,C|D,E) = \\dfrac{P(A,B|C,D,E)P(C,D|E)P(E)}{P(D,E)}\n",
    "\\tag{A.6.47}\n",
    "\\end{align}\n",
    "$$"
   ]
  },
  {
   "cell_type": "markdown",
   "metadata": {
    "school_cell_uuid": "594344ad64d440b9a2c4b51aabdc890f"
   },
   "source": [
    "#### 연습 문제 6.5.4의 답 "
   ]
  },
  {
   "cell_type": "markdown",
   "metadata": {},
   "source": [
    "$$\n",
    "\\begin{align}\n",
    "P(A,B,C) = P(A,B|C)P(C)\n",
    "\\tag{A.6.48}\n",
    "\\end{align}\n",
    "$$\n",
    "\n",
    "$$\n",
    "\\begin{align}\n",
    "P(A,B,C) = P(A|B,C)P(B,C) \n",
    "\\tag{A.6.49}\n",
    "\\end{align}\n",
    "$$\n",
    "\n",
    "B, C가 독립이므로\n",
    "\n",
    "$$\n",
    "\\begin{align}\n",
    "P(B,C) = P(B)P(C) \n",
    "\\tag{A.6.50}\n",
    "\\end{align}\n",
    "$$\n",
    "\n",
    "$$\n",
    "\\begin{align}\n",
    "P(A,B,C) = P(A|B,C)P(B)P(C) \n",
    "\\tag{A.6.51}\n",
    "\\end{align}\n",
    "$$\n",
    "\n",
    "$$\n",
    "\\begin{align}\n",
    "P(A,B|C)P(C) = P(A|B,C)P(B)P(C) \n",
    "\\tag{A.6.52}\n",
    "\\end{align}\n",
    "$$\n",
    "\n",
    "양변을 $P(C)$로 나누면\n",
    "\n",
    "$$\n",
    "\\begin{align}\n",
    "P(A,B|C) = P(A|B,C)P(B)\n",
    "\\tag{A.6.53}\n",
    "\\end{align}\n",
    "$$\n"
   ]
  },
  {
   "cell_type": "markdown",
   "metadata": {
    "school_cell_uuid": "594344ad64d440b9a2c4b51aabdc890f"
   },
   "source": [
    "#### 연습 문제 6.5.5의 답 "
   ]
  },
  {
   "cell_type": "markdown",
   "metadata": {},
   "source": [
    "| $X$의 값 | $Y$의 값 | $X$의 확률 | $Y$의 확률 | 주변확률의 곱 | 결합확률 |\n",
    "|-|-|-|-|-|-|\n",
    "| X=0 | Y=0 | $P(X=0)=0.6$ | $P(Y=0)=0.5$ | $P(X=0)P(Y=0)=0.3$ | $P(X=0,Y=0)=P(A,B)=\\dfrac{6}{20}=0.3$ |\n",
    "| X=0 | Y=1 | $P(X=0)=0.6$ | $P(Y=0)=0.5$ | $P(X=0)P(Y=0)=0.3$ | $P(X=0,Y=0)=P(A,B^C)=\\dfrac{6}{20}=0.3$ |\n",
    "| X=1 | Y=0 | $P(X=0)=0.4$ | $P(Y=0)=0.5$ | $P(X=0)P(Y=0)=0.2$ | $P(X=0,Y=0)=P(A^C,B)=\\dfrac{4}{20}=0.2$ |\n",
    "| X=1 | Y=1 | $P(X=0)=0.4$ | $P(Y=0)=0.5$ | $P(X=0)P(Y=0)=0.2$ | $P(X=0,Y=0)=P(A^C,B^C)=\\dfrac{4}{20}=0.2$ |"
   ]
  },
  {
   "cell_type": "markdown",
   "metadata": {},
   "source": [
    "주변확률의 곱과 결합확률이 같으므로 독립이다."
   ]
  },
  {
   "cell_type": "markdown",
   "metadata": {
    "school_cell_uuid": "594344ad64d440b9a2c4b51aabdc890f"
   },
   "source": [
    "#### 연습 문제 6.5.6의 답 "
   ]
  },
  {
   "cell_type": "code",
   "execution_count": 23,
   "metadata": {},
   "outputs": [
    {
     "name": "stdout",
     "output_type": "stream",
     "text": [
      "+-----+--------+\n",
      "| Y   |   P(Y) |\n",
      "+=====+========+\n",
      "| Y_0 | 0.5000 |\n",
      "+-----+--------+\n",
      "| Y_1 | 0.5000 |\n",
      "+-----+--------+\n"
     ]
    }
   ],
   "source": [
    "from pgmpy.factors.discrete import JointProbabilityDistribution as JPD\n",
    "\n",
    "py = JPD(['Y'], [2], np.array([10, 10]) / 20)\n",
    "print(py)"
   ]
  },
  {
   "cell_type": "markdown",
   "metadata": {},
   "source": [
    "#### 연습 문제 6.5.7의 답 "
   ]
  },
  {
   "cell_type": "code",
   "execution_count": 24,
   "metadata": {},
   "outputs": [
    {
     "name": "stdout",
     "output_type": "stream",
     "text": [
      "+-----+-----+----------+\n",
      "| X   | Y   |   P(X,Y) |\n",
      "+=====+=====+==========+\n",
      "| X_0 | Y_0 |   0.3000 |\n",
      "+-----+-----+----------+\n",
      "| X_0 | Y_1 |   0.3000 |\n",
      "+-----+-----+----------+\n",
      "| X_1 | Y_0 |   0.2000 |\n",
      "+-----+-----+----------+\n",
      "| X_1 | Y_1 |   0.2000 |\n",
      "+-----+-----+----------+\n"
     ]
    }
   ],
   "source": [
    "pxy2 = JPD(['X', 'Y'], [2, 2], np.array([6, 6, 4, 4]) / 20)\n",
    "print(pxy2)"
   ]
  },
  {
   "cell_type": "markdown",
   "metadata": {},
   "source": [
    "#### 연습 문제 6.5.8의 답 "
   ]
  },
  {
   "cell_type": "code",
   "execution_count": 25,
   "metadata": {},
   "outputs": [
    {
     "name": "stdout",
     "output_type": "stream",
     "text": [
      "+-----+--------+\n",
      "| X   |   P(X) |\n",
      "+=====+========+\n",
      "| X_0 | 0.6000 |\n",
      "+-----+--------+\n",
      "| X_1 | 0.4000 |\n",
      "+-----+--------+\n"
     ]
    }
   ],
   "source": [
    "px2 = pxy2.marginal_distribution(['X'], inplace=False)\n",
    "print(px2)"
   ]
  },
  {
   "cell_type": "code",
   "execution_count": 26,
   "metadata": {},
   "outputs": [
    {
     "name": "stdout",
     "output_type": "stream",
     "text": [
      "+-----+--------+\n",
      "| Y   |   P(Y) |\n",
      "+=====+========+\n",
      "| Y_0 | 0.5000 |\n",
      "+-----+--------+\n",
      "| Y_1 | 0.5000 |\n",
      "+-----+--------+\n"
     ]
    }
   ],
   "source": [
    "py2 = pxy2.marginal_distribution(['Y'], inplace=False)\n",
    "print(py2)"
   ]
  },
  {
   "cell_type": "code",
   "execution_count": 27,
   "metadata": {},
   "outputs": [
    {
     "name": "stdout",
     "output_type": "stream",
     "text": [
      "+-----+--------+\n",
      "| Y   |   P(Y) |\n",
      "+=====+========+\n",
      "| Y_0 | 0.5000 |\n",
      "+-----+--------+\n",
      "| Y_1 | 0.5000 |\n",
      "+-----+--------+\n"
     ]
    }
   ],
   "source": [
    "py_on_x0 = pxy2.conditional_distribution([('X', 0)], inplace=False)\n",
    "print(py_on_x0)"
   ]
  },
  {
   "cell_type": "code",
   "execution_count": 28,
   "metadata": {},
   "outputs": [
    {
     "name": "stdout",
     "output_type": "stream",
     "text": [
      "+-----+--------+\n",
      "| Y   |   P(Y) |\n",
      "+=====+========+\n",
      "| Y_0 | 0.5000 |\n",
      "+-----+--------+\n",
      "| Y_1 | 0.5000 |\n",
      "+-----+--------+\n"
     ]
    }
   ],
   "source": [
    "py_on_x1 = pxy2.conditional_distribution([('X', 1)], inplace=False)\n",
    "print(py_on_x1)"
   ]
  },
  {
   "cell_type": "code",
   "execution_count": 29,
   "metadata": {},
   "outputs": [
    {
     "name": "stdout",
     "output_type": "stream",
     "text": [
      "+-----+--------+\n",
      "| X   |   P(X) |\n",
      "+=====+========+\n",
      "| X_0 | 0.6000 |\n",
      "+-----+--------+\n",
      "| X_1 | 0.4000 |\n",
      "+-----+--------+\n"
     ]
    }
   ],
   "source": [
    "px_on_y0 = pxy2.conditional_distribution([('Y', 0)], inplace=False)\n",
    "print(px_on_y0)"
   ]
  },
  {
   "cell_type": "code",
   "execution_count": 30,
   "metadata": {},
   "outputs": [
    {
     "name": "stdout",
     "output_type": "stream",
     "text": [
      "+-----+--------+\n",
      "| X   |   P(X) |\n",
      "+=====+========+\n",
      "| X_0 | 0.6000 |\n",
      "+-----+--------+\n",
      "| X_1 | 0.4000 |\n",
      "+-----+--------+\n"
     ]
    }
   ],
   "source": [
    "px_on_y1 = pxy2.conditional_distribution([('Y', 1)], inplace=False)\n",
    "print(px_on_y1)"
   ]
  },
  {
   "cell_type": "code",
   "execution_count": 31,
   "metadata": {},
   "outputs": [
    {
     "data": {
      "text/plain": [
       "True"
      ]
     },
     "execution_count": 31,
     "metadata": {},
     "output_type": "execute_result"
    }
   ],
   "source": [
    "pxy2.check_independence(['X'], ['Y'])"
   ]
  },
  {
   "cell_type": "markdown",
   "metadata": {},
   "source": [
    "#### 연습 문제 6.6.1의 답 "
   ]
  },
  {
   "cell_type": "markdown",
   "metadata": {},
   "source": [
    "$$\n",
    "\\begin{align}\n",
    "\\begin{aligned}\n",
    "P(A,B,C) &= P(A|B,C)P(B,C) \\\\\n",
    "&= P(A|B,C)P(B|C)P(C) \n",
    "\\end{aligned}\n",
    "\\tag{A.6.54}\n",
    "\\end{align}\n",
    "$$\n",
    "\n",
    "$$\n",
    "\\begin{align}\n",
    "\\begin{aligned}\n",
    "P(A,B,C) &= P(B|A,C)P(A,C) \\\\\n",
    "&= P(B|A,C)P(A|C)P(C) \n",
    "\\end{aligned}\n",
    "\\tag{A.6.55}\n",
    "\\end{align}\n",
    "$$\n",
    "\n",
    "$$\n",
    "\\begin{align}\n",
    "\\begin{aligned}\n",
    "P(A|B,C)P(B|C)P(C) &= P(B|A,C)P(A|C)P(C) \n",
    "\\end{aligned}\n",
    "\\tag{A.6.56}\n",
    "\\end{align}\n",
    "$$\n",
    "\n",
    "$$\n",
    "\\begin{align}\n",
    "\\begin{aligned}\n",
    "P(A|B,C)P(B|C) &= P(B|A,C)P(A|C) \n",
    "\\end{aligned}\n",
    "\\tag{A.6.57}\n",
    "\\end{align}\n",
    "$$\n",
    "\n",
    "$$\n",
    "\\begin{align}\n",
    "\\begin{aligned}\n",
    "P(A|B,C) &= \\dfrac{P(B|A,C)P(A|C)}{P(B|C)}\n",
    "\\end{aligned}\n",
    "\\tag{A.6.58}\n",
    "\\end{align}\n",
    "$$"
   ]
  },
  {
   "cell_type": "markdown",
   "metadata": {},
   "source": [
    "#### 연습 문제 6.6.2의 답 "
   ]
  },
  {
   "cell_type": "markdown",
   "metadata": {},
   "source": [
    "$$\n",
    "\\begin{align}\n",
    "\\begin{aligned}\n",
    "P(B,C,D) &= P(D|B,C)P(B,C)\n",
    "\\end{aligned}\n",
    "\\tag{A.6.59}\n",
    "\\end{align}\n",
    "$$\n",
    "\n",
    "$$\n",
    "\\begin{align}\n",
    "\\begin{aligned}\n",
    "P(A,B,C,D) &= P(A|B,C,D)P(B,C,D) \\\\\n",
    "&= P(A|B,C,D)P(D|B,C)P(B,C)\n",
    "\\end{aligned}\n",
    "\\tag{A.6.60}\n",
    "\\end{align}\n",
    "$$\n",
    "\n",
    "$$\n",
    "\\begin{align}\n",
    "\\begin{aligned}\n",
    "P(A,B,C) &= P(A|B,C)P(B,C)\n",
    "\\end{aligned}\n",
    "\\tag{A.6.61}\n",
    "\\end{align}\n",
    "$$\n",
    "\n",
    "$$\n",
    "\\begin{align}\n",
    "\\begin{aligned}\n",
    "P(A,B,C,D) &= P(D|A,B,C)P(A,B,C) \\\\\n",
    "&= P(D|A,B,C)P(A|B,C)P(B,C)\n",
    "\\end{aligned}\n",
    "\\tag{A.6.62}\n",
    "\\end{align}\n",
    "$$\n",
    "\n",
    "$$\n",
    "\\begin{align}\n",
    "\\begin{aligned}\n",
    "P(A|B,C,D)P(D|B,C)P(B,C) &= P(D|A,B,C)P(A|B,C)P(B,C) \n",
    "\\end{aligned}\n",
    "\\tag{A.6.63}\n",
    "\\end{align}\n",
    "$$\n",
    "\n",
    "$$\n",
    "\\begin{align}\n",
    "\\begin{aligned}\n",
    "P(A|B,C,D)P(D|B,C) &= P(D|A,B,C)P(A|B,C)\n",
    "\\end{aligned}\n",
    "\\tag{A.6.64}\n",
    "\\end{align}\n",
    "$$\n",
    "\n",
    "$$\n",
    "\\begin{align}\n",
    "\\begin{aligned}\n",
    "P(A|B,C,D) = \\dfrac{P(D|A,B,C)P(A|B,C)}{P(D|B,C)}\n",
    "\\end{aligned}\n",
    "\\tag{A.6.65}\n",
    "\\end{align}\n",
    "$$"
   ]
  },
  {
   "cell_type": "markdown",
   "metadata": {},
   "source": [
    "#### 연습 문제 6.6.3의 답 "
   ]
  },
  {
   "cell_type": "markdown",
   "metadata": {},
   "source": [
    "$$\n",
    "\\begin{align}\n",
    "\\begin{aligned}\n",
    "P(C,D)  &= P(D|C)P(C)\n",
    "\\end{aligned}\n",
    "\\tag{A.6.66}\n",
    "\\end{align}\n",
    "$$\n",
    "\n",
    "$$\n",
    "\\begin{align}\n",
    "\\begin{aligned}\n",
    "P(A,B,C,D) &= P(A,B|C,D)P(C,D) \\\\ &= P(A,B|C,D)P(D|C)P(C)\n",
    "\\end{aligned}\n",
    "\\tag{A.6.67}\n",
    "\\end{align}\n",
    "$$\n",
    "\n",
    "$$\n",
    "\\begin{align}\n",
    "\\begin{aligned}\n",
    "P(A,B,C) &= P(A,B|C)P(C)\n",
    "\\end{aligned}\n",
    "\\tag{A.6.68}\n",
    "\\end{align}\n",
    "$$\n",
    "\n",
    "$$\n",
    "\\begin{align}\n",
    "\\begin{aligned}\n",
    "P(A,B,C,D) &= P(D|A,B,C)P(A,B,C) \\\\ &= P(D|A,B,C)P(A,B|C)P(C)\n",
    "\\end{aligned}\n",
    "\\tag{A.6.69}\n",
    "\\end{align}\n",
    "$$\n",
    "\n",
    "$$\n",
    "\\begin{align}\n",
    "\\begin{aligned}\n",
    "P(A,B|C,D)P(D|C)P(C) = P(D|A,B,C)P(A,B|C)P(C)\n",
    "\\end{aligned}\n",
    "\\tag{A.6.70}\n",
    "\\end{align}\n",
    "$$\n",
    "\n",
    "$$\n",
    "\\begin{align}\n",
    "\\begin{aligned}\n",
    "P(A,B|C,D)P(D|C) = P(D|A,B,C)P(A,B|C)\n",
    "\\end{aligned}\n",
    "\\tag{A.6.71}\n",
    "\\end{align}\n",
    "$$\n",
    "\n",
    "$$\n",
    "\\begin{align}\n",
    "\\begin{aligned}\n",
    "P(A,B|C,D) = \\dfrac{P(D|A,B,C)P(A,B|C)}{P(D|C)}\n",
    "\\end{aligned}\n",
    "\\tag{A.6.72}\n",
    "\\end{align}\n",
    "$$"
   ]
  }
 ],
 "metadata": {
  "kernelspec": {
   "display_name": "Python 3",
   "language": "python",
   "name": "python3"
  },
  "language_info": {
   "codemirror_mode": {
    "name": "ipython",
    "version": 3
   },
   "file_extension": ".py",
   "mimetype": "text/x-python",
   "name": "python",
   "nbconvert_exporter": "python",
   "pygments_lexer": "ipython3",
   "version": "3.7.0"
  }
 },
 "nbformat": 4,
 "nbformat_minor": 4
}
