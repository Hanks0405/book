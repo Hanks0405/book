{
 "cells": [
  {
   "cell_type": "markdown",
   "metadata": {
    "school_cell_uuid": "cc6f4c0c06df4940b627c9015936d6b7"
   },
   "source": [
    "# 참고문헌"
   ]
  },
  {
   "cell_type": "markdown",
   "metadata": {
    "school_cell_uuid": "b282a5d549a54176a603e489b112371f"
   },
   "source": [
    "* 굿펠로(Goodfellow et al.), \"심층 학습 (Deep Learning)\", 제이펍\n",
    "    * http://www.deeplearningbook.org"
   ]
  },
  {
   "cell_type": "markdown",
   "metadata": {
    "school_cell_uuid": "f085d93be1094052846a3b0b604323cc"
   },
   "source": [
    "* 그린(Greene), \"Econometric Analysis\""
   ]
  },
  {
   "cell_type": "markdown",
   "metadata": {
    "school_cell_uuid": "354cc1ba9b144f1c9534e3240424cb47"
   },
   "source": [
    "* 머피(Murphy), \"머신 러닝 (Machine learning: a probabilistic perspective)\", 에이콘\n",
    "    * https://www.cs.ubc.ca/~murphyk/MLbook/"
   ]
  },
  {
   "cell_type": "markdown",
   "metadata": {
    "school_cell_uuid": "354cc1ba9b144f1c9534e3240424cb47"
   },
   "source": [
    "* 맥케이(MacKay), \"Information Theory, Inference, and Learning Algorithms\"\n",
    "    * http://www.inference.phy.cam.ac.uk/itprnn/book.pdf"
   ]
  },
  {
   "cell_type": "markdown",
   "metadata": {
    "school_cell_uuid": "f085d93be1094052846a3b0b604323cc"
   },
   "source": [
    "* 맥키넌(MacKinnon et al.), \"Econometric Theory and Methods\" "
   ]
  },
  {
   "cell_type": "markdown",
   "metadata": {
    "school_cell_uuid": "354cc1ba9b144f1c9534e3240424cb47"
   },
   "source": [
    "* 비숍(Bishop), \"패턴 인식과 머신 러닝 (Pattern Recognition and Machine Learning)\", 제이펍\n",
    "     * http://research.microsoft.com/en-us/um/people/cmbishop/prml/index.htm"
   ]
  },
  {
   "cell_type": "markdown",
   "metadata": {
    "school_cell_uuid": "354cc1ba9b144f1c9534e3240424cb47"
   },
   "source": [
    "* 살바토르(Dominick Salvatore), \"Schaum's outline of Theory and Problems of Statstics and Econometrics\""
   ]
  },
  {
   "cell_type": "markdown",
   "metadata": {
    "school_cell_uuid": "354cc1ba9b144f1c9534e3240424cb47"
   },
   "source": [
    "* 시초스(Cichosz), \"Data Mining Algorithmss: Explained Using R\"\n",
    "    * https://www.wiley.com/legacy/wileychi/cichosz/"
   ]
  },
  {
   "cell_type": "markdown",
   "metadata": {
    "school_cell_uuid": "cda720aa285b4145a1ce9696058e80be"
   },
   "source": [
    "* 필립 클라인, \"코딩 더 매트릭스(Coding the Matrix)\", 루비페이퍼\n",
    "    * https://codingthematrix.com/"
   ]
  },
  {
   "cell_type": "markdown",
   "metadata": {
    "school_cell_uuid": "354cc1ba9b144f1c9534e3240424cb47"
   },
   "source": [
    "* 헤이스티(Hastie, et al.), \"The Elements of Statistical Learning: Data Mining, Inference, and Prediction\"\n",
    "    * http://statweb.stanford.edu/~tibs/ElemStatLearn/printings/ESLII_print10.pdf"
   ]
  }
 ],
 "metadata": {
  "kernelspec": {
   "display_name": "Python 3",
   "language": "python",
   "name": "python3"
  },
  "language_info": {
   "codemirror_mode": {
    "name": "ipython",
    "version": 3
   },
   "file_extension": ".py",
   "mimetype": "text/x-python",
   "name": "python",
   "nbconvert_exporter": "python",
   "pygments_lexer": "ipython3",
   "version": "3.7.1"
  },
  "latex_envs": {
   "LaTeX_envs_menu_present": true,
   "autoclose": false,
   "autocomplete": true,
   "bibliofile": "biblio.bib",
   "cite_by": "apalike",
   "current_citInitial": 1,
   "eqLabelWithNumbers": true,
   "eqNumInitial": 1,
   "hotkeys": {
    "equation": "Ctrl-E",
    "itemize": "Ctrl-I"
   },
   "labels_anchors": false,
   "latex_user_defs": false,
   "report_style_numbering": false,
   "user_envs_cfg": false
  },
  "toc": {
   "base_numbering": 1,
   "nav_menu": {},
   "number_sections": true,
   "sideBar": true,
   "skip_h1_title": false,
   "title_cell": "Table of Contents",
   "title_sidebar": "Contents",
   "toc_cell": false,
   "toc_position": {},
   "toc_section_display": true,
   "toc_window_display": false
  }
 },
 "nbformat": 4,
 "nbformat_minor": 1
}
